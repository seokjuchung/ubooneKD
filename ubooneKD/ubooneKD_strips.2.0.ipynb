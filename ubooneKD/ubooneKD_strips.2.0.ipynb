{
 "cells": [
  {
   "cell_type": "code",
   "execution_count": 1,
   "metadata": {},
   "outputs": [
    {
     "name": "stderr",
     "output_type": "stream",
     "text": [
      "2023-10-31 00:57:04.987302: I tensorflow/core/platform/cpu_feature_guard.cc:193] This TensorFlow binary is optimized with oneAPI Deep Neural Network Library (oneDNN) to use the following CPU instructions in performance-critical operations:  SSE4.1 SSE4.2 AVX AVX2 FMA\n",
      "To enable them in other operations, rebuild TensorFlow with the appropriate compiler flags.\n",
      "/nevis/westside/data/sc5303/python3.9/site-packages/networkx/utils/backends.py:135: RuntimeWarning: networkx backend defined more than once: nx-loopback\n",
      "  backends.update(_get_backends(\"networkx.backends\"))\n"
     ]
    }
   ],
   "source": [
    "import h5py\n",
    "import numpy as np\n",
    "import pandas as pd\n",
    "import tensorflow as tf\n",
    "import keras\n",
    "import matplotlib.pyplot as plt\n",
    "import seaborn as sns\n",
    "from sklearn.model_selection import train_test_split\n",
    "from sklearn.preprocessing import StandardScaler\n",
    "from tensorflow import keras\n",
    "from tensorflow.keras import layers, models\n",
    "from sklearn.metrics import roc_curve, auc\n",
    "import qkeras\n",
    "from qkeras import *\n",
    "from skimage.measure import block_reduce"
   ]
  },
  {
   "cell_type": "code",
   "execution_count": null,
   "metadata": {},
   "outputs": [],
   "source": [
    "class DataGenerator(keras.utils.Sequence):\n",
    "    'Generates data for Keras'\n",
    "    def __init__(self, list_IDs, labels, batch_size=32, dim=(32,32,32), n_channels=1,\n",
    "                 n_classes=10, shuffle=True):\n",
    "        'Initialization'\n",
    "        self.dim = dim\n",
    "        self.batch_size = batch_size\n",
    "        self.labels = labels\n",
    "        self.list_IDs = list_IDs\n",
    "        self.n_channels = n_channels\n",
    "        self.n_classes = n_classes\n",
    "        self.shuffle = shuffle\n",
    "        self.on_epoch_end()\n",
    "\n",
    "    def __len__(self):\n",
    "        'Denotes the number of batches per epoch'\n",
    "        return int(np.floor(len(self.list_IDs) / self.batch_size))\n",
    "\n",
    "    def __getitem__(self, index):\n",
    "        'Generate one batch of data'\n",
    "        # Generate indexes of the batch\n",
    "        indexes = self.indexes[index*self.batch_size:(index+1)*self.batch_size]\n",
    "\n",
    "        # Find list of IDs\n",
    "        list_IDs_temp = [self.list_IDs[k] for k in indexes]\n",
    "\n",
    "        # Generate data\n",
    "        X, y = self.__data_generation(list_IDs_temp)\n",
    "\n",
    "        return X, y\n",
    "\n",
    "    def on_epoch_end(self):\n",
    "        'Updates indexes after each epoch'\n",
    "        self.indexes = np.arange(len(self.list_IDs))\n",
    "        if self.shuffle == True:\n",
    "            np.random.shuffle(self.indexes)\n",
    "\n",
    "    def __data_generation(self, list_IDs_temp):\n",
    "        'Generates data containing batch_size samples' # X : (n_samples, *dim, n_channels)\n",
    "        # Initialization\n",
    "        X = np.empty((self.batch_size, *self.dim, self.n_channels))\n",
    "        y = np.empty((self.batch_size), dtype=int)\n",
    "\n",
    "        # Generate data\n",
    "        for i, ID in enumerate(list_IDs_temp):\n",
    "            # Store sample\n",
    "            X[i,] = np.load('data/' + ID + '.npy')\n",
    "\n",
    "            # Store class\n",
    "            y[i] = self.labels[ID]\n",
    "\n",
    "        return X, keras.utils.to_categorical(y, num_classes=self.n_classes)"
   ]
  },
  {
   "cell_type": "code",
   "execution_count": null,
   "metadata": {},
   "outputs": [],
   "source": [
    "# Parameters\n",
    "params = {'dim': (32,32,32),\n",
    "          'batch_size': 64,\n",
    "          'n_classes': 6,\n",
    "          'n_channels': 1,\n",
    "          'shuffle': True}\n",
    "\n",
    "# Datasets\n",
    "partition = # IDs\n",
    "labels = # Labels\n",
    "\n",
    "# Generators\n",
    "training_generator = DataGenerator(partition['train'], labels, **params)\n",
    "validation_generator = DataGenerator(partition['validation'], labels, **params)\n",
    "\n",
    "# Design model\n",
    "model = Sequential()\n",
    "[...] # Architecture\n",
    "model.compile()\n",
    "\n",
    "# Train model on dataset\n",
    "model.fit_generator(generator=training_generator,\n",
    "                    validation_data=validation_generator,\n",
    "                    use_multiprocessing=True,\n",
    "                    workers=6)"
   ]
  },
  {
   "cell_type": "code",
   "execution_count": 2,
   "metadata": {},
   "outputs": [],
   "source": [
    "# Open the HDF5 file\n",
    "file_path = '/nevis/westside/data/sc5303/Data/bnb_WithWire_16.h5'\n",
    "ntimeticks = 6400\n",
    "nwire = 3456\n",
    "\n",
    "with h5py.File(file_path, 'r') as hf:\n",
    "    # Access the \"wire_table\" group\n",
    "    wire_table_group = hf['wire_table']\n",
    "    startEvt = 0\n",
    "    endEvt = 1\n",
    "    nEvt = endEvt - startEvt\n",
    "    # Define the start and end indices for the subset you want to load\n",
    "\n",
    "    # Load the subsets of the data using slicing and convert them to DataFrames\n",
    "    event_ids = [wire_table_group['event_id'][Evt*8256] for Evt in range(startEvt, endEvt)]\n",
    "    planeadcs = [wire_table_group['adc'][4800+Evt*8256:8256+Evt*8256] for Evt in range(startEvt, endEvt)]\n",
    "\n",
    "    nplanes=len(planeadcs)\n",
    "\n",
    "\n",
    "    f_downsample = 1\n",
    "    for p in range(0,nplanes):\n",
    "        planeadcs[p] = block_reduce(planeadcs[p], block_size=(1,f_downsample), func=np.sum)\n",
    "\n",
    "    adccutoff = 10.*f_downsample/10.\n",
    "    adcsaturation = 100.*f_downsample/10.\n",
    "    for p in range(0,nplanes):\n",
    "        planeadcs[p][planeadcs[p]<adccutoff] = 0\n",
    "        planeadcs[p][planeadcs[p]>adcsaturation] = adcsaturation\n"
   ]
  },
  {
   "cell_type": "code",
   "execution_count": 5,
   "metadata": {},
   "outputs": [
    {
     "data": {
      "text/plain": [
       "[array([[0., 0., 0., ..., 0., 0., 0.],\n",
       "        [0., 0., 0., ..., 0., 0., 0.],\n",
       "        [0., 0., 0., ..., 0., 0., 0.],\n",
       "        ...,\n",
       "        [0., 0., 0., ..., 0., 0., 0.],\n",
       "        [0., 0., 0., ..., 0., 0., 0.],\n",
       "        [0., 0., 0., ..., 0., 0., 0.]], dtype=float32)]"
      ]
     },
     "execution_count": 5,
     "metadata": {},
     "output_type": "execute_result"
    }
   ],
   "source": [
    "planeadcs"
   ]
  },
  {
   "cell_type": "code",
   "execution_count": 3,
   "metadata": {
    "scrolled": true
   },
   "outputs": [
    {
     "name": "stdout",
     "output_type": "stream",
     "text": [
      "X      shape: (1, 3456, 6400, 1)\n",
      "full      shape: (1, 3456, 6400, 1)\n"
     ]
    }
   ],
   "source": [
    "f_split = 1\n",
    "X = np.array(np.split(np.array(planeadcs), f_split, axis=2))\n",
    "X = np.reshape(X, (-1,nwire,ntimeticks//f_downsample//f_split,1))\n",
    "print('X      shape: ' + str(X.shape))\n",
    "\n",
    "full_split = 1\n",
    "full = np.array(np.split(np.array(planeadcs), full_split, axis=2))\n",
    "full = np.reshape(full, (-1,nwire,ntimeticks//f_downsample//full_split,1))\n",
    "print('full      shape: ' + str(full.shape))"
   ]
  },
  {
   "cell_type": "code",
   "execution_count": 4,
   "metadata": {},
   "outputs": [
    {
     "name": "stdout",
     "output_type": "stream",
     "text": [
      "X_train shape: (499, 3456, 64, 1)\n",
      "X_val   shape: (101, 3456, 64, 1)\n",
      "X_test  shape: (400, 3456, 64, 1)\n"
     ]
    }
   ],
   "source": [
    "train_ratio = 0.5\n",
    "val_ratio = 0.1\n",
    "test_ratio = 1 - train_ratio - val_ratio\n",
    "\n",
    "# Create an array of original indices\n",
    "original_indices = np.arange(X.shape[0])\n",
    "\n",
    "# Perform the train/test split\n",
    "X_train_val_indices, X_test_indices = train_test_split(original_indices, test_size=test_ratio, random_state=42)\n",
    "X_train_indices, X_val_indices = train_test_split(X_train_val_indices, test_size=val_ratio / (val_ratio + train_ratio), random_state=42)\n",
    "del X_train_val_indices\n",
    "# Use the indices to access the corresponding data\n",
    "X_test = X[X_test_indices]\n",
    "X_train = X[X_train_indices]\n",
    "X_val = X[X_val_indices]\n",
    "\n",
    "# X_train_val, X_test = train_test_split(X, test_size = test_ratio, random_state = 42)\n",
    "# X_train, X_val = train_test_split(X_train_val, test_size = val_ratio/(val_ratio + train_ratio), random_state = 42)\n",
    "# del X_train_val\n",
    "\n",
    "print('X_train shape: ' + str(X_train.shape))\n",
    "print('X_val   shape: ' + str(X_val.shape))\n",
    "print('X_test  shape: ' + str(X_test.shape))\n"
   ]
  },
  {
   "cell_type": "code",
   "execution_count": 4,
   "metadata": {},
   "outputs": [
    {
     "name": "stderr",
     "output_type": "stream",
     "text": [
      "2023-10-31 00:58:42.189105: I tensorflow/core/platform/cpu_feature_guard.cc:193] This TensorFlow binary is optimized with oneAPI Deep Neural Network Library (oneDNN) to use the following CPU instructions in performance-critical operations:  SSE4.1 SSE4.2 AVX AVX2 FMA\n",
      "To enable them in other operations, rebuild TensorFlow with the appropriate compiler flags.\n",
      "2023-10-31 00:58:47.975033: I tensorflow/core/common_runtime/gpu/gpu_device.cc:1613] Created device /job:localhost/replica:0/task:0/device:GPU:0 with 11445 MB memory:  -> device: 0, name: NVIDIA TITAN X (Pascal), pci bus id: 0000:01:00.0, compute capability: 6.1\n",
      "2023-10-31 00:58:47.975381: I tensorflow/core/common_runtime/gpu/gpu_device.cc:1613] Created device /job:localhost/replica:0/task:0/device:GPU:1 with 11445 MB memory:  -> device: 1, name: NVIDIA TITAN X (Pascal), pci bus id: 0000:02:00.0, compute capability: 6.1\n",
      "2023-10-31 00:58:58.679178: W tensorflow/tsl/framework/bfc_allocator.cc:479] Allocator (GPU_0_bfc) ran out of memory trying to allocate 49.44GiB (rounded to 53084160000)requested by op StatelessRandomUniformV2\n",
      "If the cause is memory fragmentation maybe the environment variable 'TF_GPU_ALLOCATOR=cuda_malloc_async' will improve the situation. \n",
      "Current allocation summary follows.\n",
      "Current allocation summary follows.\n",
      "2023-10-31 00:58:58.679202: I tensorflow/tsl/framework/bfc_allocator.cc:1034] BFCAllocator dump for GPU_0_bfc\n",
      "2023-10-31 00:58:58.679211: I tensorflow/tsl/framework/bfc_allocator.cc:1041] Bin (256): \tTotal Chunks: 11, Chunks in use: 11. 2.8KiB allocated for chunks. 2.8KiB in use in bin. 252B client-requested in use in bin.\n",
      "2023-10-31 00:58:58.679217: I tensorflow/tsl/framework/bfc_allocator.cc:1041] Bin (512): \tTotal Chunks: 1, Chunks in use: 1. 768B allocated for chunks. 768B in use in bin. 720B client-requested in use in bin.\n",
      "2023-10-31 00:58:58.679223: I tensorflow/tsl/framework/bfc_allocator.cc:1041] Bin (1024): \tTotal Chunks: 1, Chunks in use: 1. 1.2KiB allocated for chunks. 1.2KiB in use in bin. 1.0KiB client-requested in use in bin.\n",
      "2023-10-31 00:58:58.679228: I tensorflow/tsl/framework/bfc_allocator.cc:1041] Bin (2048): \tTotal Chunks: 0, Chunks in use: 0. 0B allocated for chunks. 0B in use in bin. 0B client-requested in use in bin.\n",
      "2023-10-31 00:58:58.679232: I tensorflow/tsl/framework/bfc_allocator.cc:1041] Bin (4096): \tTotal Chunks: 0, Chunks in use: 0. 0B allocated for chunks. 0B in use in bin. 0B client-requested in use in bin.\n",
      "2023-10-31 00:58:58.679236: I tensorflow/tsl/framework/bfc_allocator.cc:1041] Bin (8192): \tTotal Chunks: 0, Chunks in use: 0. 0B allocated for chunks. 0B in use in bin. 0B client-requested in use in bin.\n",
      "2023-10-31 00:58:58.679242: I tensorflow/tsl/framework/bfc_allocator.cc:1041] Bin (16384): \tTotal Chunks: 1, Chunks in use: 1. 21.2KiB allocated for chunks. 21.2KiB in use in bin. 21.1KiB client-requested in use in bin.\n",
      "2023-10-31 00:58:58.679247: I tensorflow/tsl/framework/bfc_allocator.cc:1041] Bin (32768): \tTotal Chunks: 1, Chunks in use: 0. 42.5KiB allocated for chunks. 0B in use in bin. 0B client-requested in use in bin.\n",
      "2023-10-31 00:58:58.679251: I tensorflow/tsl/framework/bfc_allocator.cc:1041] Bin (65536): \tTotal Chunks: 0, Chunks in use: 0. 0B allocated for chunks. 0B in use in bin. 0B client-requested in use in bin.\n",
      "2023-10-31 00:58:58.679256: I tensorflow/tsl/framework/bfc_allocator.cc:1041] Bin (131072): \tTotal Chunks: 0, Chunks in use: 0. 0B allocated for chunks. 0B in use in bin. 0B client-requested in use in bin.\n",
      "2023-10-31 00:58:58.679260: I tensorflow/tsl/framework/bfc_allocator.cc:1041] Bin (262144): \tTotal Chunks: 0, Chunks in use: 0. 0B allocated for chunks. 0B in use in bin. 0B client-requested in use in bin.\n",
      "2023-10-31 00:58:58.679264: I tensorflow/tsl/framework/bfc_allocator.cc:1041] Bin (524288): \tTotal Chunks: 0, Chunks in use: 0. 0B allocated for chunks. 0B in use in bin. 0B client-requested in use in bin.\n",
      "2023-10-31 00:58:58.679269: I tensorflow/tsl/framework/bfc_allocator.cc:1041] Bin (1048576): \tTotal Chunks: 0, Chunks in use: 0. 0B allocated for chunks. 0B in use in bin. 0B client-requested in use in bin.\n",
      "2023-10-31 00:58:58.679273: I tensorflow/tsl/framework/bfc_allocator.cc:1041] Bin (2097152): \tTotal Chunks: 0, Chunks in use: 0. 0B allocated for chunks. 0B in use in bin. 0B client-requested in use in bin.\n",
      "2023-10-31 00:58:58.679277: I tensorflow/tsl/framework/bfc_allocator.cc:1041] Bin (4194304): \tTotal Chunks: 0, Chunks in use: 0. 0B allocated for chunks. 0B in use in bin. 0B client-requested in use in bin.\n",
      "2023-10-31 00:58:58.679281: I tensorflow/tsl/framework/bfc_allocator.cc:1041] Bin (8388608): \tTotal Chunks: 0, Chunks in use: 0. 0B allocated for chunks. 0B in use in bin. 0B client-requested in use in bin.\n",
      "2023-10-31 00:58:58.679285: I tensorflow/tsl/framework/bfc_allocator.cc:1041] Bin (16777216): \tTotal Chunks: 0, Chunks in use: 0. 0B allocated for chunks. 0B in use in bin. 0B client-requested in use in bin.\n",
      "2023-10-31 00:58:58.679290: I tensorflow/tsl/framework/bfc_allocator.cc:1041] Bin (33554432): \tTotal Chunks: 0, Chunks in use: 0. 0B allocated for chunks. 0B in use in bin. 0B client-requested in use in bin.\n",
      "2023-10-31 00:58:58.679295: I tensorflow/tsl/framework/bfc_allocator.cc:1041] Bin (67108864): \tTotal Chunks: 0, Chunks in use: 0. 0B allocated for chunks. 0B in use in bin. 0B client-requested in use in bin.\n",
      "2023-10-31 00:58:58.679299: I tensorflow/tsl/framework/bfc_allocator.cc:1041] Bin (134217728): \tTotal Chunks: 0, Chunks in use: 0. 0B allocated for chunks. 0B in use in bin. 0B client-requested in use in bin.\n",
      "2023-10-31 00:58:58.679305: I tensorflow/tsl/framework/bfc_allocator.cc:1041] Bin (268435456): \tTotal Chunks: 1, Chunks in use: 0. 11.18GiB allocated for chunks. 0B in use in bin. 0B client-requested in use in bin.\n",
      "2023-10-31 00:58:58.679312: I tensorflow/tsl/framework/bfc_allocator.cc:1057] Bin for 49.44GiB was 256.00MiB, Chunk State: \n",
      "2023-10-31 00:58:58.679322: I tensorflow/tsl/framework/bfc_allocator.cc:1063]   Size: 11.18GiB | Requested Size: 0B | in_use: 0 | bin_num: 20, prev:   Size: 21.2KiB | Requested Size: 21.1KiB | in_use: 1 | bin_num: -1\n",
      "2023-10-31 00:58:58.679326: I tensorflow/tsl/framework/bfc_allocator.cc:1070] Next region of size 12001476608\n",
      "2023-10-31 00:58:58.679331: I tensorflow/tsl/framework/bfc_allocator.cc:1090] InUse at 7f80dc000000 of size 1280 next 1\n",
      "2023-10-31 00:58:58.679335: I tensorflow/tsl/framework/bfc_allocator.cc:1090] InUse at 7f80dc000500 of size 256 next 2\n",
      "2023-10-31 00:58:58.679338: I tensorflow/tsl/framework/bfc_allocator.cc:1090] InUse at 7f80dc000600 of size 256 next 3\n",
      "2023-10-31 00:58:58.679341: I tensorflow/tsl/framework/bfc_allocator.cc:1090] InUse at 7f80dc000700 of size 256 next 5\n",
      "2023-10-31 00:58:58.679344: I tensorflow/tsl/framework/bfc_allocator.cc:1090] InUse at 7f80dc000800 of size 256 next 6\n",
      "2023-10-31 00:58:58.679347: I tensorflow/tsl/framework/bfc_allocator.cc:1090] InUse at 7f80dc000900 of size 256 next 4\n",
      "2023-10-31 00:58:58.679351: I tensorflow/tsl/framework/bfc_allocator.cc:1090] InUse at 7f80dc000a00 of size 256 next 7\n",
      "2023-10-31 00:58:58.679354: I tensorflow/tsl/framework/bfc_allocator.cc:1090] InUse at 7f80dc000b00 of size 256 next 12\n",
      "2023-10-31 00:58:58.679357: I tensorflow/tsl/framework/bfc_allocator.cc:1090] InUse at 7f80dc000c00 of size 256 next 10\n",
      "2023-10-31 00:58:58.679361: I tensorflow/tsl/framework/bfc_allocator.cc:1090] InUse at 7f80dc000d00 of size 256 next 11\n",
      "2023-10-31 00:58:58.679364: I tensorflow/tsl/framework/bfc_allocator.cc:1090] InUse at 7f80dc000e00 of size 256 next 15\n",
      "2023-10-31 00:58:58.679368: I tensorflow/tsl/framework/bfc_allocator.cc:1090] InUse at 7f80dc000f00 of size 256 next 8\n",
      "2023-10-31 00:58:58.679371: I tensorflow/tsl/framework/bfc_allocator.cc:1090] InUse at 7f80dc001000 of size 768 next 9\n",
      "2023-10-31 00:58:58.679375: I tensorflow/tsl/framework/bfc_allocator.cc:1090] Free  at 7f80dc001300 of size 43520 next 14\n",
      "2023-10-31 00:58:58.679378: I tensorflow/tsl/framework/bfc_allocator.cc:1090] InUse at 7f80dc00bd00 of size 21760 next 13\n",
      "2023-10-31 00:58:58.679383: I tensorflow/tsl/framework/bfc_allocator.cc:1090] Free  at 7f80dc011200 of size 12001406464 next 18446744073709551615\n",
      "2023-10-31 00:58:58.679387: I tensorflow/tsl/framework/bfc_allocator.cc:1095]      Summary of in-use Chunks by size: \n",
      "2023-10-31 00:58:58.679391: I tensorflow/tsl/framework/bfc_allocator.cc:1098] 11 Chunks of size 256 totalling 2.8KiB\n",
      "2023-10-31 00:58:58.679395: I tensorflow/tsl/framework/bfc_allocator.cc:1098] 1 Chunks of size 768 totalling 768B\n",
      "2023-10-31 00:58:58.679399: I tensorflow/tsl/framework/bfc_allocator.cc:1098] 1 Chunks of size 1280 totalling 1.2KiB\n",
      "2023-10-31 00:58:58.679403: I tensorflow/tsl/framework/bfc_allocator.cc:1098] 1 Chunks of size 21760 totalling 21.2KiB\n",
      "2023-10-31 00:58:58.679407: I tensorflow/tsl/framework/bfc_allocator.cc:1102] Sum Total of in-use chunks: 26.0KiB\n",
      "2023-10-31 00:58:58.679411: I tensorflow/tsl/framework/bfc_allocator.cc:1104] total_region_allocated_bytes_: 12001476608 memory_limit_: 12001476608 available bytes: 0 curr_region_allocation_bytes_: 24002953216\n",
      "2023-10-31 00:58:58.679417: I tensorflow/tsl/framework/bfc_allocator.cc:1110] Stats: \n",
      "Limit:                     12001476608\n",
      "InUse:                           26624\n",
      "MaxInUse:                        69376\n",
      "NumAllocs:                          24\n",
      "MaxAllocSize:                    21760\n",
      "Reserved:                            0\n",
      "PeakReserved:                        0\n",
      "LargestFreeBlock:                    0\n",
      "\n",
      "2023-10-31 00:58:58.679424: W tensorflow/tsl/framework/bfc_allocator.cc:492] *___________________________________________________________________________________________________\n",
      "2023-10-31 00:58:58.679444: W tensorflow/core/framework/op_kernel.cc:1830] OP_REQUIRES failed at stateless_random_ops_v2.cc:67 : RESOURCE_EXHAUSTED: OOM when allocating tensor with shape[165888000,80] and type float on /job:localhost/replica:0/task:0/device:GPU:0 by allocator GPU_0_bfc\n"
     ]
    },
    {
     "ename": "ResourceExhaustedError",
     "evalue": "{{function_node __wrapped__StatelessRandomUniformV2_device_/job:localhost/replica:0/task:0/device:GPU:0}} OOM when allocating tensor with shape[165888000,80] and type float on /job:localhost/replica:0/task:0/device:GPU:0 by allocator GPU_0_bfc [Op:StatelessRandomUniformV2]",
     "output_type": "error",
     "traceback": [
      "\u001b[0;31m---------------------------------------------------------------------------\u001b[0m",
      "\u001b[0;31mResourceExhaustedError\u001b[0m                    Traceback (most recent call last)",
      "\u001b[1;32m/nevis/houston/home/sc5303/anomaly/ubooneKD/ubooneKD_strips.2.0.ipynb 셀 7\u001b[0m line \u001b[0;36m1\n\u001b[1;32m      <a href='vscode-notebook-cell://ssh-remote%2Blee/nevis/houston/home/sc5303/anomaly/ubooneKD/ubooneKD_strips.2.0.ipynb#W4sdnNjb2RlLXJlbW90ZQ%3D%3D?line=6'>7</a>\u001b[0m encoder \u001b[39m=\u001b[39m layers\u001b[39m.\u001b[39mActivation(\u001b[39m'\u001b[39m\u001b[39mrelu\u001b[39m\u001b[39m'\u001b[39m, name\u001b[39m=\u001b[39m\u001b[39m'\u001b[39m\u001b[39mrelu_2\u001b[39m\u001b[39m'\u001b[39m)(encoder)\n\u001b[1;32m      <a href='vscode-notebook-cell://ssh-remote%2Blee/nevis/houston/home/sc5303/anomaly/ubooneKD/ubooneKD_strips.2.0.ipynb#W4sdnNjb2RlLXJlbW90ZQ%3D%3D?line=7'>8</a>\u001b[0m encoder \u001b[39m=\u001b[39m layers\u001b[39m.\u001b[39mFlatten(name\u001b[39m=\u001b[39m\u001b[39m'\u001b[39m\u001b[39mflatten\u001b[39m\u001b[39m'\u001b[39m)(encoder)\n\u001b[0;32m---> <a href='vscode-notebook-cell://ssh-remote%2Blee/nevis/houston/home/sc5303/anomaly/ubooneKD/ubooneKD_strips.2.0.ipynb#W4sdnNjb2RlLXJlbW90ZQ%3D%3D?line=9'>10</a>\u001b[0m encoder_output \u001b[39m=\u001b[39m layers\u001b[39m.\u001b[39;49mDense(\u001b[39m80\u001b[39;49m, activation\u001b[39m=\u001b[39;49m\u001b[39m'\u001b[39;49m\u001b[39mrelu\u001b[39;49m\u001b[39m'\u001b[39;49m, name\u001b[39m=\u001b[39;49m\u001b[39m'\u001b[39;49m\u001b[39mlatent\u001b[39;49m\u001b[39m'\u001b[39;49m)(encoder)\n\u001b[1;32m     <a href='vscode-notebook-cell://ssh-remote%2Blee/nevis/houston/home/sc5303/anomaly/ubooneKD/ubooneKD_strips.2.0.ipynb#W4sdnNjb2RlLXJlbW90ZQ%3D%3D?line=11'>12</a>\u001b[0m encoder \u001b[39m=\u001b[39m tf\u001b[39m.\u001b[39mkeras\u001b[39m.\u001b[39mmodels\u001b[39m.\u001b[39mModel(encoder_input, encoder_output)\n\u001b[1;32m     <a href='vscode-notebook-cell://ssh-remote%2Blee/nevis/houston/home/sc5303/anomaly/ubooneKD/ubooneKD_strips.2.0.ipynb#W4sdnNjb2RlLXJlbW90ZQ%3D%3D?line=13'>14</a>\u001b[0m decoder \u001b[39m=\u001b[39m layers\u001b[39m.\u001b[39mDense(nwire\u001b[39m/\u001b[39m\u001b[39m/\u001b[39m\u001b[39m2\u001b[39m\u001b[39m*\u001b[39mntimeticks\u001b[39m/\u001b[39m\u001b[39m/\u001b[39mf_downsample\u001b[39m/\u001b[39m\u001b[39m/\u001b[39mf_split\u001b[39m/\u001b[39m\u001b[39m/\u001b[39m\u001b[39m2\u001b[39m\u001b[39m*\u001b[39m\u001b[39m30\u001b[39m, name\u001b[39m=\u001b[39m\u001b[39m'\u001b[39m\u001b[39mdense\u001b[39m\u001b[39m'\u001b[39m)(encoder_output)\n",
      "File \u001b[0;32m/nevis/westside/data/sc5303/conda/envs/kd4uboone/lib/python3.9/site-packages/keras/utils/traceback_utils.py:70\u001b[0m, in \u001b[0;36mfilter_traceback.<locals>.error_handler\u001b[0;34m(*args, **kwargs)\u001b[0m\n\u001b[1;32m     67\u001b[0m     filtered_tb \u001b[39m=\u001b[39m _process_traceback_frames(e\u001b[39m.\u001b[39m__traceback__)\n\u001b[1;32m     68\u001b[0m     \u001b[39m# To get the full stack trace, call:\u001b[39;00m\n\u001b[1;32m     69\u001b[0m     \u001b[39m# `tf.debugging.disable_traceback_filtering()`\u001b[39;00m\n\u001b[0;32m---> 70\u001b[0m     \u001b[39mraise\u001b[39;00m e\u001b[39m.\u001b[39mwith_traceback(filtered_tb) \u001b[39mfrom\u001b[39;00m \u001b[39mNone\u001b[39;00m\n\u001b[1;32m     71\u001b[0m \u001b[39mfinally\u001b[39;00m:\n\u001b[1;32m     72\u001b[0m     \u001b[39mdel\u001b[39;00m filtered_tb\n",
      "File \u001b[0;32m/nevis/westside/data/sc5303/conda/envs/kd4uboone/lib/python3.9/site-packages/keras/backend.py:2100\u001b[0m, in \u001b[0;36mRandomGenerator.random_uniform\u001b[0;34m(self, shape, minval, maxval, dtype, nonce)\u001b[0m\n\u001b[1;32m   2098\u001b[0m     \u001b[39mif\u001b[39;00m nonce:\n\u001b[1;32m   2099\u001b[0m         seed \u001b[39m=\u001b[39m tf\u001b[39m.\u001b[39mrandom\u001b[39m.\u001b[39mexperimental\u001b[39m.\u001b[39mstateless_fold_in(seed, nonce)\n\u001b[0;32m-> 2100\u001b[0m     \u001b[39mreturn\u001b[39;00m tf\u001b[39m.\u001b[39;49mrandom\u001b[39m.\u001b[39;49mstateless_uniform(\n\u001b[1;32m   2101\u001b[0m         shape\u001b[39m=\u001b[39;49mshape,\n\u001b[1;32m   2102\u001b[0m         minval\u001b[39m=\u001b[39;49mminval,\n\u001b[1;32m   2103\u001b[0m         maxval\u001b[39m=\u001b[39;49mmaxval,\n\u001b[1;32m   2104\u001b[0m         dtype\u001b[39m=\u001b[39;49mdtype,\n\u001b[1;32m   2105\u001b[0m         seed\u001b[39m=\u001b[39;49mseed,\n\u001b[1;32m   2106\u001b[0m     )\n\u001b[1;32m   2107\u001b[0m \u001b[39mreturn\u001b[39;00m tf\u001b[39m.\u001b[39mrandom\u001b[39m.\u001b[39muniform(\n\u001b[1;32m   2108\u001b[0m     shape\u001b[39m=\u001b[39mshape,\n\u001b[1;32m   2109\u001b[0m     minval\u001b[39m=\u001b[39mminval,\n\u001b[0;32m   (...)\u001b[0m\n\u001b[1;32m   2112\u001b[0m     seed\u001b[39m=\u001b[39m\u001b[39mself\u001b[39m\u001b[39m.\u001b[39mmake_legacy_seed(),\n\u001b[1;32m   2113\u001b[0m )\n",
      "\u001b[0;31mResourceExhaustedError\u001b[0m: {{function_node __wrapped__StatelessRandomUniformV2_device_/job:localhost/replica:0/task:0/device:GPU:0}} OOM when allocating tensor with shape[165888000,80] and type float on /job:localhost/replica:0/task:0/device:GPU:0 by allocator GPU_0_bfc [Op:StatelessRandomUniformV2]"
     ]
    }
   ],
   "source": [
    "encoder_input = tf.keras.Input(shape=(nwire,ntimeticks//f_downsample//f_split,1), name='input')\n",
    "\n",
    "encoder = layers.Conv2D(20, (3,3), strides=1, padding='same', name='conv2d_1')(encoder_input)\n",
    "encoder = layers.Activation('relu', name='relu_1')(encoder)\n",
    "encoder = layers.AveragePooling2D((2,2), name='pool_1')(encoder)\n",
    "encoder = layers.Conv2D(30, (3,3), strides=1, padding='same', name='conv2d_2')(encoder)\n",
    "encoder = layers.Activation('relu', name='relu_2')(encoder)\n",
    "encoder = layers.Flatten(name='flatten')(encoder)\n",
    "\n",
    "encoder_output = layers.Dense(80, activation='relu', name='latent')(encoder)\n",
    "\n",
    "encoder = tf.keras.models.Model(encoder_input, encoder_output)\n",
    "\n",
    "decoder = layers.Dense(nwire//2*ntimeticks//f_downsample//f_split//2*30, name='dense')(encoder_output)\n",
    "decoder = layers.Reshape((nwire//2,ntimeticks//f_downsample//f_split//2,30), name='reshape2')(decoder)\n",
    "decoder = layers.Activation('relu', name='relu_3')(decoder)\n",
    "decoder = layers.Conv2D(30, (3,3), strides=1, padding='same', name='conv2d_3')(decoder)\n",
    "decoder = layers.Activation('relu', name='relu_4')(decoder)\n",
    "decoder = layers.UpSampling2D((2,2), name='upsampling')(decoder)\n",
    "decoder = layers.Conv2D(20, (3,3), strides=1, padding='same', name='conv2d_4')(decoder)\n",
    "decoder = layers.Activation('relu', name='relu_5')(decoder)\n",
    "\n",
    "decoder_output = layers.Conv2D(1, (3,3), activation='relu', strides=1, padding='same', name='output')(decoder)\n",
    "\n",
    "teacher = tf.keras.Model(encoder_input, decoder_output)\n",
    "\n",
    "teacher.compile(optimizer = keras.optimizers.Adam(learning_rate=0.001), loss = 'mse')"
   ]
  },
  {
   "cell_type": "code",
   "execution_count": 6,
   "metadata": {
    "scrolled": true
   },
   "outputs": [
    {
     "name": "stdout",
     "output_type": "stream",
     "text": [
      "Epoch 1/40\n"
     ]
    },
    {
     "name": "stderr",
     "output_type": "stream",
     "text": [
      "2023-10-29 14:18:00.609362: I tensorflow/compiler/xla/stream_executor/cuda/cuda_dnn.cc:428] Loaded cuDNN version 8800\n",
      "2023-10-29 14:18:00.944945: I tensorflow/tsl/platform/default/subprocess.cc:304] Start cannot spawn child process: No such file or directory\n",
      "2023-10-29 14:18:03.475980: I tensorflow/compiler/xla/service/service.cc:173] XLA service 0x7f4bef6a6f10 initialized for platform CUDA (this does not guarantee that XLA will be used). Devices:\n",
      "2023-10-29 14:18:03.475999: I tensorflow/compiler/xla/service/service.cc:181]   StreamExecutor device (0): NVIDIA TITAN X (Pascal), Compute Capability 6.1\n",
      "2023-10-29 14:18:03.476003: I tensorflow/compiler/xla/service/service.cc:181]   StreamExecutor device (1): NVIDIA TITAN X (Pascal), Compute Capability 6.1\n",
      "2023-10-29 14:18:03.479402: I tensorflow/compiler/mlir/tensorflow/utils/dump_mlir_util.cc:268] disabling MLIR crash reproducer, set env var `MLIR_CRASH_REPRODUCER_DIRECTORY` to enable.\n",
      "2023-10-29 14:18:03.536859: I tensorflow/tsl/platform/default/subprocess.cc:304] Start cannot spawn child process: No such file or directory\n",
      "2023-10-29 14:18:03.570582: I tensorflow/compiler/jit/xla_compilation_cache.cc:477] Compiled cluster using XLA!  This line is logged at most once for the lifetime of the process.\n",
      "2023-10-29 14:18:03.711219: W tensorflow/tsl/framework/bfc_allocator.cc:290] Allocator (GPU_0_bfc) ran out of memory trying to allocate 2.98GiB with freed_by_count=0. The caller indicates that this is not a failure, but this may mean that there could be performance gains if more memory were available.\n",
      "2023-10-29 14:18:05.046701: W tensorflow/tsl/framework/bfc_allocator.cc:290] Allocator (GPU_0_bfc) ran out of memory trying to allocate 2.98GiB with freed_by_count=0. The caller indicates that this is not a failure, but this may mean that there could be performance gains if more memory were available.\n"
     ]
    },
    {
     "name": "stdout",
     "output_type": "stream",
     "text": [
      "16/16 [==============================] - 15s 487ms/step - loss: 18.0606 - val_loss: 19.2463\n",
      "Epoch 2/40\n",
      "16/16 [==============================] - 4s 245ms/step - loss: 17.9539 - val_loss: 19.2232\n",
      "Epoch 3/40\n",
      "16/16 [==============================] - 4s 245ms/step - loss: 17.7256 - val_loss: 19.2180\n",
      "Epoch 4/40\n",
      "16/16 [==============================] - 4s 244ms/step - loss: 17.0751 - val_loss: 19.2158\n",
      "Epoch 5/40\n",
      "16/16 [==============================] - 4s 245ms/step - loss: 16.3201 - val_loss: 19.2179\n",
      "Epoch 6/40\n",
      "16/16 [==============================] - 4s 244ms/step - loss: 15.2538 - val_loss: 19.2122\n",
      "Epoch 7/40\n",
      "16/16 [==============================] - 4s 245ms/step - loss: 14.5765 - val_loss: 19.2110\n",
      "Epoch 8/40\n",
      "16/16 [==============================] - 4s 244ms/step - loss: 13.7635 - val_loss: 19.2329\n",
      "Epoch 9/40\n",
      "16/16 [==============================] - 4s 244ms/step - loss: 12.9030 - val_loss: 19.2306\n",
      "Epoch 10/40\n",
      "16/16 [==============================] - 4s 245ms/step - loss: 11.3765 - val_loss: 19.2277\n",
      "Epoch 11/40\n",
      "16/16 [==============================] - 4s 244ms/step - loss: 9.9262 - val_loss: 19.2732\n",
      "Epoch 12/40\n",
      "16/16 [==============================] - 4s 245ms/step - loss: 9.1143 - val_loss: 19.2420\n",
      "Epoch 13/40\n",
      "16/16 [==============================] - 4s 245ms/step - loss: 8.4659 - val_loss: 19.2831\n",
      "Epoch 14/40\n",
      "16/16 [==============================] - 4s 245ms/step - loss: 7.7172 - val_loss: 19.2338\n",
      "Epoch 15/40\n",
      "16/16 [==============================] - 4s 246ms/step - loss: 6.9209 - val_loss: 19.2485\n",
      "Epoch 16/40\n",
      "16/16 [==============================] - 4s 246ms/step - loss: 6.4758 - val_loss: 19.2361\n",
      "Epoch 17/40\n",
      "16/16 [==============================] - 4s 245ms/step - loss: 6.1828 - val_loss: 19.2853\n",
      "Epoch 18/40\n",
      "16/16 [==============================] - 4s 246ms/step - loss: 6.0983 - val_loss: 19.2521\n",
      "Epoch 19/40\n",
      "16/16 [==============================] - 4s 245ms/step - loss: 5.9394 - val_loss: 19.2309\n",
      "Epoch 20/40\n",
      "16/16 [==============================] - 4s 246ms/step - loss: 5.5177 - val_loss: 19.2529\n",
      "Epoch 21/40\n",
      "16/16 [==============================] - 4s 247ms/step - loss: 4.9628 - val_loss: 19.2561\n",
      "Epoch 22/40\n",
      "16/16 [==============================] - 4s 246ms/step - loss: 4.4779 - val_loss: 19.2570\n",
      "Epoch 23/40\n",
      "16/16 [==============================] - 4s 246ms/step - loss: 4.2531 - val_loss: 19.2474\n",
      "Epoch 24/40\n",
      "16/16 [==============================] - 4s 247ms/step - loss: 4.0419 - val_loss: 19.2516\n",
      "Epoch 25/40\n",
      "16/16 [==============================] - 4s 247ms/step - loss: 3.8771 - val_loss: 19.2596\n",
      "Epoch 26/40\n",
      "16/16 [==============================] - 4s 247ms/step - loss: 3.7888 - val_loss: 19.2481\n",
      "Epoch 27/40\n",
      "16/16 [==============================] - 4s 247ms/step - loss: 3.7467 - val_loss: 19.2570\n",
      "Epoch 28/40\n",
      "16/16 [==============================] - 4s 250ms/step - loss: 3.7225 - val_loss: 19.2604\n",
      "Epoch 29/40\n",
      "16/16 [==============================] - 4s 248ms/step - loss: 3.6294 - val_loss: 19.2535\n",
      "Epoch 30/40\n",
      "16/16 [==============================] - 4s 250ms/step - loss: 3.6364 - val_loss: 19.2576\n",
      "Epoch 31/40\n",
      "16/16 [==============================] - 4s 251ms/step - loss: 3.7216 - val_loss: 19.2455\n",
      "Epoch 32/40\n",
      "16/16 [==============================] - 4s 250ms/step - loss: 3.5715 - val_loss: 19.2536\n",
      "Epoch 33/40\n",
      "16/16 [==============================] - 4s 248ms/step - loss: 3.4505 - val_loss: 19.2528\n",
      "Epoch 34/40\n",
      "16/16 [==============================] - 4s 251ms/step - loss: 3.4472 - val_loss: 19.2570\n",
      "Epoch 35/40\n",
      "16/16 [==============================] - 4s 247ms/step - loss: 3.4144 - val_loss: 19.2546\n",
      "Epoch 36/40\n",
      "16/16 [==============================] - 4s 250ms/step - loss: 3.3222 - val_loss: 19.2501\n",
      "Epoch 37/40\n",
      "16/16 [==============================] - 4s 249ms/step - loss: 3.2927 - val_loss: 19.2492\n",
      "Epoch 38/40\n",
      "16/16 [==============================] - 4s 255ms/step - loss: 3.2855 - val_loss: 19.2543\n",
      "Epoch 39/40\n",
      "16/16 [==============================] - 4s 248ms/step - loss: 3.2371 - val_loss: 19.2575\n",
      "Epoch 40/40\n",
      "16/16 [==============================] - 4s 252ms/step - loss: 3.2119 - val_loss: 19.2465\n"
     ]
    }
   ],
   "source": [
    "history = teacher.fit(X_train, X_train,\n",
    "                      epochs = 40,\n",
    "                      validation_data = (X_val, X_val),\n",
    "                      batch_size = 32)"
   ]
  },
  {
   "cell_type": "code",
   "execution_count": 7,
   "metadata": {},
   "outputs": [
    {
     "name": "stdout",
     "output_type": "stream",
     "text": [
      " 3/16 [====>.........................] - ETA: 0s"
     ]
    },
    {
     "name": "stderr",
     "output_type": "stream",
     "text": [
      "2023-10-29 14:20:51.691161: W tensorflow/tsl/framework/bfc_allocator.cc:290] Allocator (GPU_0_bfc) ran out of memory trying to allocate 4.76GiB with freed_by_count=0. The caller indicates that this is not a failure, but this may mean that there could be performance gains if more memory were available.\n",
      "2023-10-29 14:20:51.691200: W tensorflow/tsl/framework/bfc_allocator.cc:290] Allocator (GPU_0_bfc) ran out of memory trying to allocate 4.76GiB with freed_by_count=0. The caller indicates that this is not a failure, but this may mean that there could be performance gains if more memory were available.\n"
     ]
    },
    {
     "name": "stdout",
     "output_type": "stream",
     "text": [
      "16/16 [==============================] - 2s 75ms/step\n",
      "4/4 [==============================] - 0s 91ms/step\n",
      "12/13 [==========================>...] - ETA: 0s"
     ]
    },
    {
     "name": "stderr",
     "output_type": "stream",
     "text": [
      "2023-10-29 14:20:54.828099: W tensorflow/tsl/framework/bfc_allocator.cc:290] Allocator (GPU_0_bfc) ran out of memory trying to allocate 3.58GiB with freed_by_count=0. The caller indicates that this is not a failure, but this may mean that there could be performance gains if more memory were available.\n",
      "2023-10-29 14:20:54.828134: W tensorflow/tsl/framework/bfc_allocator.cc:290] Allocator (GPU_0_bfc) ran out of memory trying to allocate 3.58GiB with freed_by_count=0. The caller indicates that this is not a failure, but this may mean that there could be performance gains if more memory were available.\n"
     ]
    },
    {
     "name": "stdout",
     "output_type": "stream",
     "text": [
      "13/13 [==============================] - 2s 137ms/step\n",
      "32/32 [==============================] - 3s 80ms/step\n"
     ]
    }
   ],
   "source": [
    "def loss(y_true, y_pred, choice):\n",
    "    if choice == 'mse':\n",
    "        loss = np.mean((y_true - y_pred)**2, axis = (1,2,3))\n",
    "        return loss\n",
    "\n",
    "X_train_predict_teacher = teacher.predict(X_train)\n",
    "X_val_predict_teacher = teacher.predict(X_val)\n",
    "X_test_predict_teacher = teacher.predict(X_test)\n",
    "X_predict_teacher = teacher.predict(X)\n",
    "\n",
    "X_train_loss_teacher = loss(X_train, X_train_predict_teacher, 'mse')\n",
    "X_val_loss_teacher = loss(X_val, X_val_predict_teacher, 'mse')\n",
    "X_test_loss_teacher = loss(X_test, X_test_predict_teacher, 'mse')\n",
    "X_loss_teacher = loss(X, X_predict_teacher, 'mse')"
   ]
  },
  {
   "cell_type": "code",
   "execution_count": 8,
   "metadata": {},
   "outputs": [
    {
     "name": "stdout",
     "output_type": "stream",
     "text": [
      "WARNING:tensorflow:From /nevis/westside/data/sc5303/conda/envs/kd4uboone/lib/python3.9/site-packages/tensorflow/python/autograph/pyct/static_analysis/liveness.py:83: Analyzer.lamba_check (from tensorflow.python.autograph.pyct.static_analysis.liveness) is deprecated and will be removed after 2023-09-23.\n",
      "Instructions for updating:\n",
      "Lambda fuctions will be no more assumed to be used in the statement where they are used, or at least in the same block. https://github.com/tensorflow/tensorflow/issues/56089\n",
      "Model: \"model_2\"\n",
      "_________________________________________________________________\n",
      " Layer (type)                Output Shape              Param #   \n",
      "=================================================================\n",
      " In (InputLayer)             [(None, 221184)]          0         \n",
      "                                                                 \n",
      " reshape (Reshape)           (None, 3456, 64, 1)       0         \n",
      "                                                                 \n",
      " conv (QConv2D)              (None, 1727, 31, 3)       27        \n",
      "                                                                 \n",
      " relu1 (QActivation)         (None, 1727, 31, 3)       0         \n",
      "                                                                 \n",
      " flatten (Flatten)           (None, 160611)            0         \n",
      "                                                                 \n",
      " dense1 (QDense)             (None, 20)                3212220   \n",
      "                                                                 \n",
      " relu2 (QActivation)         (None, 20)                0         \n",
      "                                                                 \n",
      " output (QDense)             (None, 1)                 20        \n",
      "                                                                 \n",
      "=================================================================\n",
      "Total params: 3,212,267\n",
      "Trainable params: 3,212,267\n",
      "Non-trainable params: 0\n",
      "_________________________________________________________________\n"
     ]
    }
   ],
   "source": [
    "# v2\n",
    "x_in = layers.Input(shape=(nwire*ntimeticks//f_downsample//f_split,), name=\"In\")\n",
    "x = layers.Reshape((nwire,ntimeticks//f_downsample//f_split,1), name='reshape')(x_in)\n",
    "\n",
    "x = QConv2D(3,(3,3), strides=2, padding=\"valid\", use_bias=False,\n",
    "            kernel_quantizer=quantized_bits(16,4,1,alpha='auto'), name='conv')(x)\n",
    "x = QActivation('quantized_relu(16,4)', name='relu1')(x)\n",
    "x = layers.Flatten(name='flatten')(x)\n",
    "x = QDense(20, kernel_quantizer=quantized_bits(16,4,1,alpha='auto'),\n",
    "           use_bias=False, name='dense1')(x)\n",
    "x = QActivation('quantized_relu(16,4)', name='relu2')(x)\n",
    "x = QDense(1, kernel_quantizer=quantized_bits(16,2,1,alpha='auto'),\n",
    "           use_bias=False, name='output')(x)\n",
    "\n",
    "student = tf.keras.models.Model(x_in, x)\n",
    "student.summary()\n",
    "student.compile(optimizer = 'adam', loss = 'mse')"
   ]
  },
  {
   "cell_type": "code",
   "execution_count": 9,
   "metadata": {
    "scrolled": true
   },
   "outputs": [
    {
     "name": "stdout",
     "output_type": "stream",
     "text": [
      "Epoch 1/30\n"
     ]
    },
    {
     "name": "stderr",
     "output_type": "stream",
     "text": [
      "2023-10-29 14:21:07.460274: E tensorflow/core/grappler/optimizers/meta_optimizer.cc:954] layout failed: INVALID_ARGUMENT: Size of values 0 does not match size of permutation 4 @ fanin shape ingradient_tape/model_2/relu1/SelectV2-2-TransposeNHWCToNCHW-LayoutOptimizer\n"
     ]
    },
    {
     "name": "stdout",
     "output_type": "stream",
     "text": [
      "4/4 [==============================] - 2s 233ms/step - loss: 83.2529 - val_loss: 488.1922\n",
      "Epoch 2/30\n",
      "4/4 [==============================] - 0s 56ms/step - loss: 99.6677 - val_loss: 510.9138\n",
      "Epoch 3/30\n",
      "4/4 [==============================] - 0s 56ms/step - loss: 63.1147 - val_loss: 513.4410\n",
      "Epoch 4/30\n",
      "4/4 [==============================] - 0s 55ms/step - loss: 55.8129 - val_loss: 513.5953\n",
      "Epoch 5/30\n",
      "4/4 [==============================] - 0s 55ms/step - loss: 51.8174 - val_loss: 513.7795\n",
      "Epoch 6/30\n",
      "4/4 [==============================] - 0s 55ms/step - loss: 47.8023 - val_loss: 513.8868\n",
      "Epoch 7/30\n",
      "4/4 [==============================] - 0s 57ms/step - loss: 43.6794 - val_loss: 513.8239\n",
      "Epoch 8/30\n",
      "4/4 [==============================] - 0s 56ms/step - loss: 40.3855 - val_loss: 513.6555\n",
      "Epoch 9/30\n",
      "4/4 [==============================] - 0s 55ms/step - loss: 37.9685 - val_loss: 513.3581\n",
      "Epoch 10/30\n",
      "4/4 [==============================] - 0s 58ms/step - loss: 36.8780 - val_loss: 512.2934\n",
      "Epoch 11/30\n",
      "4/4 [==============================] - 0s 56ms/step - loss: 35.8174 - val_loss: 509.0410\n",
      "Epoch 12/30\n",
      "4/4 [==============================] - 0s 56ms/step - loss: 34.3480 - val_loss: 498.5581\n",
      "Epoch 13/30\n",
      "4/4 [==============================] - 0s 56ms/step - loss: 32.3698 - val_loss: 492.0566\n",
      "Epoch 14/30\n",
      "4/4 [==============================] - 0s 56ms/step - loss: 31.6945 - val_loss: 487.5434\n",
      "Epoch 15/30\n",
      "4/4 [==============================] - 0s 55ms/step - loss: 30.9191 - val_loss: 483.7157\n",
      "Epoch 16/30\n",
      "4/4 [==============================] - 0s 55ms/step - loss: 30.1862 - val_loss: 480.0837\n",
      "Epoch 17/30\n",
      "4/4 [==============================] - 0s 55ms/step - loss: 29.2961 - val_loss: 476.5876\n",
      "Epoch 18/30\n",
      "4/4 [==============================] - 0s 56ms/step - loss: 28.8172 - val_loss: 473.3242\n",
      "Epoch 19/30\n",
      "4/4 [==============================] - 0s 57ms/step - loss: 28.3624 - val_loss: 470.3084\n",
      "Epoch 20/30\n",
      "4/4 [==============================] - 0s 56ms/step - loss: 27.8070 - val_loss: 467.4035\n",
      "Epoch 21/30\n",
      "4/4 [==============================] - 0s 55ms/step - loss: 27.3707 - val_loss: 464.5782\n",
      "Epoch 22/30\n",
      "4/4 [==============================] - 0s 56ms/step - loss: 26.6754 - val_loss: 462.0279\n",
      "Epoch 23/30\n",
      "4/4 [==============================] - 0s 55ms/step - loss: 26.3217 - val_loss: 459.4814\n",
      "Epoch 24/30\n",
      "4/4 [==============================] - 0s 56ms/step - loss: 26.0012 - val_loss: 457.0485\n",
      "Epoch 25/30\n",
      "4/4 [==============================] - 0s 55ms/step - loss: 25.5360 - val_loss: 454.7803\n",
      "Epoch 26/30\n",
      "4/4 [==============================] - 0s 55ms/step - loss: 25.2542 - val_loss: 452.6068\n",
      "Epoch 27/30\n",
      "4/4 [==============================] - 0s 56ms/step - loss: 24.9271 - val_loss: 450.4596\n",
      "Epoch 28/30\n",
      "4/4 [==============================] - 0s 55ms/step - loss: 24.6322 - val_loss: 448.4685\n",
      "Epoch 29/30\n",
      "4/4 [==============================] - 0s 55ms/step - loss: 24.3533 - val_loss: 446.6013\n",
      "Epoch 30/30\n",
      "4/4 [==============================] - 0s 55ms/step - loss: 24.0323 - val_loss: 444.9325\n"
     ]
    }
   ],
   "source": [
    "history = student.fit(X_train.reshape((-1,nwire*ntimeticks//f_downsample//f_split,1)), X_train_loss_teacher,\n",
    "                      epochs = 30,\n",
    "                      validation_data = (X_val.reshape((-1,nwire*ntimeticks//f_downsample//f_split,1)), X_val_loss_teacher),\n",
    "                      batch_size = 128)"
   ]
  },
  {
   "cell_type": "code",
   "execution_count": 10,
   "metadata": {},
   "outputs": [
    {
     "name": "stdout",
     "output_type": "stream",
     "text": [
      "16/16 [==============================] - 0s 10ms/step\n",
      "4/4 [==============================] - 0s 11ms/step\n",
      "13/13 [==============================] - 0s 10ms/step\n",
      "32/32 [==============================] - 0s 9ms/step\n"
     ]
    }
   ],
   "source": [
    "X_train_loss_student = student.predict(X_train.reshape((-1,nwire*ntimeticks//f_downsample//f_split,1)))\n",
    "X_val_loss_student = student.predict(X_val.reshape((-1,nwire*ntimeticks//f_downsample//f_split,1)))\n",
    "X_test_loss_student = student.predict(X_test.reshape((-1,nwire*ntimeticks//f_downsample//f_split,1)))\n",
    "X_loss_student = student.predict(X.reshape((-1,nwire*ntimeticks//f_downsample//f_split,1)))"
   ]
  },
  {
   "cell_type": "code",
   "execution_count": 11,
   "metadata": {},
   "outputs": [
    {
     "data": {
      "image/png": "[encoded data removed]",
      "text/plain": [
       "<Figure size 640x480 with 1 Axes>"
      ]
     },
     "metadata": {},
     "output_type": "display_data"
    }
   ],
   "source": [
    "nbins = 80\n",
    "rmin = 0\n",
    "rmax = 100\n",
    "plt.hist(X_train_loss_teacher, density = 1, bins = nbins, alpha = 1, label = 'train', range = (rmin, rmax), log = True, histtype='step')\n",
    "plt.hist(X_val_loss_teacher, density = 1, bins = nbins, alpha = 1, label = 'val', range = (rmin, rmax), log = True, histtype='step')\n",
    "plt.hist(X_test_loss_teacher, density = 1, bins = nbins, alpha = 1, label = 'test', range = (rmin, rmax), log = True, histtype='step')\n",
    "plt.legend(loc='center left', bbox_to_anchor=(1, 0.5))\n",
    "plt.xlabel(\"Anomaly score (teacher)\")\n",
    "plt.show()"
   ]
  },
  {
   "cell_type": "code",
   "execution_count": 12,
   "metadata": {},
   "outputs": [
    {
     "data": {
      "image/png": "[encoded data removed]",
      "text/plain": [
       "<Figure size 640x480 with 1 Axes>"
      ]
     },
     "metadata": {},
     "output_type": "display_data"
    }
   ],
   "source": [
    "nbins = 80\n",
    "rmin = 0\n",
    "rmax = 100\n",
    "plt.hist(X_train_loss_student, density = 1, bins = nbins, alpha = 1, label = 'train', range = (rmin, rmax), log = True, histtype='step')\n",
    "plt.hist(X_val_loss_student, density = 1, bins = nbins, alpha = 1, label = 'val', range = (rmin, rmax), log = True, histtype='step')\n",
    "plt.hist(X_test_loss_student, density = 1, bins = nbins, alpha = 1, label = 'test', range = (rmin, rmax), log = True, histtype='step')\n",
    "plt.legend(loc='center left', bbox_to_anchor=(1, 0.5))\n",
    "plt.xlabel(\"Anomaly score (students)\")\n",
    "plt.show()"
   ]
  },
  {
   "cell_type": "code",
   "execution_count": 15,
   "metadata": {},
   "outputs": [
    {
     "name": "stderr",
     "output_type": "stream",
     "text": [
      "/tmp/ipykernel_40578/310815403.py:20: DeprecationWarning: Conversion of an array with ndim > 0 to a scalar is deprecated, and will error in future. Ensure you extract a single element from your array before performing this operation. (Deprecated NumPy 1.25.)\n",
      "  ax1.set_title(f\"Plane 2 run{event_ids[true_indice%nEvt][0]}, subrun{event_ids[true_indice%nEvt][1]}, event{event_ids[true_indice%nEvt][2]}, anomaly score: {X_loss_teacher[true_indice]:.2f} (teacher), {float(X_loss_student[true_indice]):.2f} (student)\")\n"
     ]
    },
    {
     "data": {
      "text/plain": [
       "<contextlib.ExitStack at 0x7f4cfc7b5ee0>"
      ]
     },
     "execution_count": 15,
     "metadata": {},
     "output_type": "execute_result"
    }
   ],
   "source": [
    "# Use boolean indexing to get the indices of values over the threshold\n",
    "indices = np.where(X_loss_teacher > 50)\n",
    "\n",
    "# Convert the indices to a list (if needed)\n",
    "indices_list = indices[0].tolist()\n",
    "\n",
    "zmax = adcsaturation\n",
    "\n",
    "# Turn off interactive plotting\n",
    "plt.ioff()\n",
    "\n",
    "for evt in indices_list:\n",
    "    fig, ax1 = plt.subplots(1, 1, figsize=(20, 15), dpi=600)\n",
    "    true_indice = evt\n",
    "    \n",
    "    # Transpose the image\n",
    "    transposed_image = full[true_indice%nEvt][:, :, 0].T\n",
    "\n",
    "    im1 = ax1.imshow(transposed_image, vmin=0, vmax=zmax, origin='lower', cmap='jet')\n",
    "    ax1.set_title(f\"Plane 2 run{event_ids[true_indice%nEvt][0]}, subrun{event_ids[true_indice%nEvt][1]}, event{event_ids[true_indice%nEvt][2]}, anomaly score: {X_loss_teacher[true_indice]:.2f} (teacher), {X_loss_student[true_indice][0]:.2f} (student)\")\n",
    "    ax1.set_xlabel(\"Wire\")\n",
    "    ax1.set_ylabel(\"Time Tick\")\n",
    "    ax1.axhline((true_indice//nEvt)*64, linewidth=0.5, color='yellow', ls='-')\n",
    "    ax1.axhline((true_indice//nEvt+1)*64, linewidth=0.5, color='yellow', ls='-')\n",
    "\n",
    "    # Save the figure without displaying it\n",
    "    fig.savefig(f'output/strips64/full/{event_ids[true_indice%nEvt]}.png')\n",
    "    # Close the figure to release resources\n",
    "    plt.close(fig)\n",
    "\n",
    "# Turn interactive plotting back on\n",
    "plt.ion()"
   ]
  },
  {
   "cell_type": "code",
   "execution_count": 31,
   "metadata": {},
   "outputs": [
    {
     "ename": "KeyboardInterrupt",
     "evalue": "",
     "output_type": "error",
     "traceback": [
      "\u001b[0;31m---------------------------------------------------------------------------\u001b[0m",
      "\u001b[0;31mAttributeError\u001b[0m                            Traceback (most recent call last)",
      "File \u001b[0;32m/nevis/westside/data/sc5303/conda/envs/kd4uboone/lib/python3.9/site-packages/PIL/ImageFile.py:515\u001b[0m, in \u001b[0;36m_save\u001b[0;34m(im, fp, tile, bufsize)\u001b[0m\n\u001b[1;32m    514\u001b[0m \u001b[39mtry\u001b[39;00m:\n\u001b[0;32m--> 515\u001b[0m     fh \u001b[39m=\u001b[39m fp\u001b[39m.\u001b[39;49mfileno()\n\u001b[1;32m    516\u001b[0m     fp\u001b[39m.\u001b[39mflush()\n",
      "\u001b[0;31mAttributeError\u001b[0m: '_idat' object has no attribute 'fileno'",
      "\nDuring handling of the above exception, another exception occurred:\n",
      "\u001b[0;31mKeyboardInterrupt\u001b[0m                         Traceback (most recent call last)",
      "\u001b[1;32m/nevis/houston/home/sc5303/anomaly/ubooneKD/ubooneKD_strips.ipynb 셀 14\u001b[0m line \u001b[0;36m2\n\u001b[1;32m     <a href='vscode-notebook-cell://ssh-remote%2Blee/nevis/houston/home/sc5303/anomaly/ubooneKD/ubooneKD_strips.ipynb#Y112sdnNjb2RlLXJlbW90ZQ%3D%3D?line=23'>24</a>\u001b[0m ax1\u001b[39m.\u001b[39maxhline((true_indice\u001b[39m/\u001b[39m\u001b[39m/\u001b[39mnEvt\u001b[39m+\u001b[39m\u001b[39m1\u001b[39m)\u001b[39m*\u001b[39m\u001b[39m64\u001b[39m, linewidth\u001b[39m=\u001b[39m\u001b[39m0.5\u001b[39m, color\u001b[39m=\u001b[39m\u001b[39m'\u001b[39m\u001b[39myellow\u001b[39m\u001b[39m'\u001b[39m, ls\u001b[39m=\u001b[39m\u001b[39m'\u001b[39m\u001b[39m-\u001b[39m\u001b[39m'\u001b[39m)\n\u001b[1;32m     <a href='vscode-notebook-cell://ssh-remote%2Blee/nevis/houston/home/sc5303/anomaly/ubooneKD/ubooneKD_strips.ipynb#Y112sdnNjb2RlLXJlbW90ZQ%3D%3D?line=25'>26</a>\u001b[0m \u001b[39m# Save the figure without displaying it\u001b[39;00m\n\u001b[0;32m---> <a href='vscode-notebook-cell://ssh-remote%2Blee/nevis/houston/home/sc5303/anomaly/ubooneKD/ubooneKD_strips.ipynb#Y112sdnNjb2RlLXJlbW90ZQ%3D%3D?line=26'>27</a>\u001b[0m fig\u001b[39m.\u001b[39;49msavefig(\u001b[39mf\u001b[39;49m\u001b[39m'\u001b[39;49m\u001b[39moutput/strips64/student/\u001b[39;49m\u001b[39m{\u001b[39;49;00mevent_ids[true_indice\u001b[39m%\u001b[39;49mnEvt]\u001b[39m}\u001b[39;49;00m\u001b[39m.png\u001b[39;49m\u001b[39m'\u001b[39;49m)\n\u001b[1;32m     <a href='vscode-notebook-cell://ssh-remote%2Blee/nevis/houston/home/sc5303/anomaly/ubooneKD/ubooneKD_strips.ipynb#Y112sdnNjb2RlLXJlbW90ZQ%3D%3D?line=27'>28</a>\u001b[0m \u001b[39m# Close the figure to release resources\u001b[39;00m\n\u001b[1;32m     <a href='vscode-notebook-cell://ssh-remote%2Blee/nevis/houston/home/sc5303/anomaly/ubooneKD/ubooneKD_strips.ipynb#Y112sdnNjb2RlLXJlbW90ZQ%3D%3D?line=28'>29</a>\u001b[0m plt\u001b[39m.\u001b[39mclose(fig)\n",
      "File \u001b[0;32m/nevis/westside/data/sc5303/conda/envs/kd4uboone/lib/python3.9/site-packages/matplotlib/figure.py:3390\u001b[0m, in \u001b[0;36mFigure.savefig\u001b[0;34m(self, fname, transparent, **kwargs)\u001b[0m\n\u001b[1;32m   3388\u001b[0m     \u001b[39mfor\u001b[39;00m ax \u001b[39min\u001b[39;00m \u001b[39mself\u001b[39m\u001b[39m.\u001b[39maxes:\n\u001b[1;32m   3389\u001b[0m         _recursively_make_axes_transparent(stack, ax)\n\u001b[0;32m-> 3390\u001b[0m \u001b[39mself\u001b[39;49m\u001b[39m.\u001b[39;49mcanvas\u001b[39m.\u001b[39;49mprint_figure(fname, \u001b[39m*\u001b[39;49m\u001b[39m*\u001b[39;49mkwargs)\n",
      "File \u001b[0;32m/nevis/westside/data/sc5303/conda/envs/kd4uboone/lib/python3.9/site-packages/matplotlib/backend_bases.py:2187\u001b[0m, in \u001b[0;36mFigureCanvasBase.print_figure\u001b[0;34m(self, filename, dpi, facecolor, edgecolor, orientation, format, bbox_inches, pad_inches, bbox_extra_artists, backend, **kwargs)\u001b[0m\n\u001b[1;32m   2183\u001b[0m \u001b[39mtry\u001b[39;00m:\n\u001b[1;32m   2184\u001b[0m     \u001b[39m# _get_renderer may change the figure dpi (as vector formats\u001b[39;00m\n\u001b[1;32m   2185\u001b[0m     \u001b[39m# force the figure dpi to 72), so we need to set it again here.\u001b[39;00m\n\u001b[1;32m   2186\u001b[0m     \u001b[39mwith\u001b[39;00m cbook\u001b[39m.\u001b[39m_setattr_cm(\u001b[39mself\u001b[39m\u001b[39m.\u001b[39mfigure, dpi\u001b[39m=\u001b[39mdpi):\n\u001b[0;32m-> 2187\u001b[0m         result \u001b[39m=\u001b[39m print_method(\n\u001b[1;32m   2188\u001b[0m             filename,\n\u001b[1;32m   2189\u001b[0m             facecolor\u001b[39m=\u001b[39;49mfacecolor,\n\u001b[1;32m   2190\u001b[0m             edgecolor\u001b[39m=\u001b[39;49medgecolor,\n\u001b[1;32m   2191\u001b[0m             orientation\u001b[39m=\u001b[39;49morientation,\n\u001b[1;32m   2192\u001b[0m             bbox_inches_restore\u001b[39m=\u001b[39;49m_bbox_inches_restore,\n\u001b[1;32m   2193\u001b[0m             \u001b[39m*\u001b[39;49m\u001b[39m*\u001b[39;49mkwargs)\n\u001b[1;32m   2194\u001b[0m \u001b[39mfinally\u001b[39;00m:\n\u001b[1;32m   2195\u001b[0m     \u001b[39mif\u001b[39;00m bbox_inches \u001b[39mand\u001b[39;00m restore_bbox:\n",
      "File \u001b[0;32m/nevis/westside/data/sc5303/conda/envs/kd4uboone/lib/python3.9/site-packages/matplotlib/backend_bases.py:2043\u001b[0m, in \u001b[0;36mFigureCanvasBase._switch_canvas_and_return_print_method.<locals>.<lambda>\u001b[0;34m(*args, **kwargs)\u001b[0m\n\u001b[1;32m   2039\u001b[0m     optional_kws \u001b[39m=\u001b[39m {  \u001b[39m# Passed by print_figure for other renderers.\u001b[39;00m\n\u001b[1;32m   2040\u001b[0m         \u001b[39m\"\u001b[39m\u001b[39mdpi\u001b[39m\u001b[39m\"\u001b[39m, \u001b[39m\"\u001b[39m\u001b[39mfacecolor\u001b[39m\u001b[39m\"\u001b[39m, \u001b[39m\"\u001b[39m\u001b[39medgecolor\u001b[39m\u001b[39m\"\u001b[39m, \u001b[39m\"\u001b[39m\u001b[39morientation\u001b[39m\u001b[39m\"\u001b[39m,\n\u001b[1;32m   2041\u001b[0m         \u001b[39m\"\u001b[39m\u001b[39mbbox_inches_restore\u001b[39m\u001b[39m\"\u001b[39m}\n\u001b[1;32m   2042\u001b[0m     skip \u001b[39m=\u001b[39m optional_kws \u001b[39m-\u001b[39m {\u001b[39m*\u001b[39minspect\u001b[39m.\u001b[39msignature(meth)\u001b[39m.\u001b[39mparameters}\n\u001b[0;32m-> 2043\u001b[0m     print_method \u001b[39m=\u001b[39m functools\u001b[39m.\u001b[39mwraps(meth)(\u001b[39mlambda\u001b[39;00m \u001b[39m*\u001b[39margs, \u001b[39m*\u001b[39m\u001b[39m*\u001b[39mkwargs: meth(\n\u001b[1;32m   2044\u001b[0m         \u001b[39m*\u001b[39;49margs, \u001b[39m*\u001b[39;49m\u001b[39m*\u001b[39;49m{k: v \u001b[39mfor\u001b[39;49;00m k, v \u001b[39min\u001b[39;49;00m kwargs\u001b[39m.\u001b[39;49mitems() \u001b[39mif\u001b[39;49;00m k \u001b[39mnot\u001b[39;49;00m \u001b[39min\u001b[39;49;00m skip}))\n\u001b[1;32m   2045\u001b[0m \u001b[39melse\u001b[39;00m:  \u001b[39m# Let third-parties do as they see fit.\u001b[39;00m\n\u001b[1;32m   2046\u001b[0m     print_method \u001b[39m=\u001b[39m meth\n",
      "File \u001b[0;32m/nevis/westside/data/sc5303/conda/envs/kd4uboone/lib/python3.9/site-packages/matplotlib/backends/backend_agg.py:497\u001b[0m, in \u001b[0;36mFigureCanvasAgg.print_png\u001b[0;34m(self, filename_or_obj, metadata, pil_kwargs)\u001b[0m\n\u001b[1;32m    450\u001b[0m \u001b[39mdef\u001b[39;00m \u001b[39mprint_png\u001b[39m(\u001b[39mself\u001b[39m, filename_or_obj, \u001b[39m*\u001b[39m, metadata\u001b[39m=\u001b[39m\u001b[39mNone\u001b[39;00m, pil_kwargs\u001b[39m=\u001b[39m\u001b[39mNone\u001b[39;00m):\n\u001b[1;32m    451\u001b[0m \u001b[39m    \u001b[39m\u001b[39m\"\"\"\u001b[39;00m\n\u001b[1;32m    452\u001b[0m \u001b[39m    Write the figure to a PNG file.\u001b[39;00m\n\u001b[1;32m    453\u001b[0m \n\u001b[0;32m   (...)\u001b[0m\n\u001b[1;32m    495\u001b[0m \u001b[39m        *metadata*, including the default 'Software' key.\u001b[39;00m\n\u001b[1;32m    496\u001b[0m \u001b[39m    \"\"\"\u001b[39;00m\n\u001b[0;32m--> 497\u001b[0m     \u001b[39mself\u001b[39;49m\u001b[39m.\u001b[39;49m_print_pil(filename_or_obj, \u001b[39m\"\u001b[39;49m\u001b[39mpng\u001b[39;49m\u001b[39m\"\u001b[39;49m, pil_kwargs, metadata)\n",
      "File \u001b[0;32m/nevis/westside/data/sc5303/conda/envs/kd4uboone/lib/python3.9/site-packages/matplotlib/backends/backend_agg.py:446\u001b[0m, in \u001b[0;36mFigureCanvasAgg._print_pil\u001b[0;34m(self, filename_or_obj, fmt, pil_kwargs, metadata)\u001b[0m\n\u001b[1;32m    441\u001b[0m \u001b[39m\u001b[39m\u001b[39m\"\"\"\u001b[39;00m\n\u001b[1;32m    442\u001b[0m \u001b[39mDraw the canvas, then save it using `.image.imsave` (to which\u001b[39;00m\n\u001b[1;32m    443\u001b[0m \u001b[39m*pil_kwargs* and *metadata* are forwarded).\u001b[39;00m\n\u001b[1;32m    444\u001b[0m \u001b[39m\"\"\"\u001b[39;00m\n\u001b[1;32m    445\u001b[0m FigureCanvasAgg\u001b[39m.\u001b[39mdraw(\u001b[39mself\u001b[39m)\n\u001b[0;32m--> 446\u001b[0m mpl\u001b[39m.\u001b[39;49mimage\u001b[39m.\u001b[39;49mimsave(\n\u001b[1;32m    447\u001b[0m     filename_or_obj, \u001b[39mself\u001b[39;49m\u001b[39m.\u001b[39;49mbuffer_rgba(), \u001b[39mformat\u001b[39;49m\u001b[39m=\u001b[39;49mfmt, origin\u001b[39m=\u001b[39;49m\u001b[39m\"\u001b[39;49m\u001b[39mupper\u001b[39;49m\u001b[39m\"\u001b[39;49m,\n\u001b[1;32m    448\u001b[0m     dpi\u001b[39m=\u001b[39;49m\u001b[39mself\u001b[39;49m\u001b[39m.\u001b[39;49mfigure\u001b[39m.\u001b[39;49mdpi, metadata\u001b[39m=\u001b[39;49mmetadata, pil_kwargs\u001b[39m=\u001b[39;49mpil_kwargs)\n",
      "File \u001b[0;32m/nevis/westside/data/sc5303/conda/envs/kd4uboone/lib/python3.9/site-packages/matplotlib/image.py:1656\u001b[0m, in \u001b[0;36mimsave\u001b[0;34m(fname, arr, vmin, vmax, cmap, format, origin, dpi, metadata, pil_kwargs)\u001b[0m\n\u001b[1;32m   1654\u001b[0m pil_kwargs\u001b[39m.\u001b[39msetdefault(\u001b[39m\"\u001b[39m\u001b[39mformat\u001b[39m\u001b[39m\"\u001b[39m, \u001b[39mformat\u001b[39m)\n\u001b[1;32m   1655\u001b[0m pil_kwargs\u001b[39m.\u001b[39msetdefault(\u001b[39m\"\u001b[39m\u001b[39mdpi\u001b[39m\u001b[39m\"\u001b[39m, (dpi, dpi))\n\u001b[0;32m-> 1656\u001b[0m image\u001b[39m.\u001b[39;49msave(fname, \u001b[39m*\u001b[39;49m\u001b[39m*\u001b[39;49mpil_kwargs)\n",
      "File \u001b[0;32m/nevis/westside/data/sc5303/conda/envs/kd4uboone/lib/python3.9/site-packages/PIL/Image.py:2413\u001b[0m, in \u001b[0;36mImage.save\u001b[0;34m(self, fp, format, **params)\u001b[0m\n\u001b[1;32m   2410\u001b[0m         fp \u001b[39m=\u001b[39m builtins\u001b[39m.\u001b[39mopen(filename, \u001b[39m\"\u001b[39m\u001b[39mw+b\u001b[39m\u001b[39m\"\u001b[39m)\n\u001b[1;32m   2412\u001b[0m \u001b[39mtry\u001b[39;00m:\n\u001b[0;32m-> 2413\u001b[0m     save_handler(\u001b[39mself\u001b[39;49m, fp, filename)\n\u001b[1;32m   2414\u001b[0m \u001b[39mexcept\u001b[39;00m \u001b[39mException\u001b[39;00m:\n\u001b[1;32m   2415\u001b[0m     \u001b[39mif\u001b[39;00m open_fp:\n",
      "File \u001b[0;32m/nevis/westside/data/sc5303/conda/envs/kd4uboone/lib/python3.9/site-packages/PIL/PngImagePlugin.py:1398\u001b[0m, in \u001b[0;36m_save\u001b[0;34m(im, fp, filename, chunk, save_all)\u001b[0m\n\u001b[1;32m   1396\u001b[0m     _write_multiple_frames(im, fp, chunk, rawmode, default_image, append_images)\n\u001b[1;32m   1397\u001b[0m \u001b[39melse\u001b[39;00m:\n\u001b[0;32m-> 1398\u001b[0m     ImageFile\u001b[39m.\u001b[39;49m_save(im, _idat(fp, chunk), [(\u001b[39m\"\u001b[39;49m\u001b[39mzip\u001b[39;49m\u001b[39m\"\u001b[39;49m, (\u001b[39m0\u001b[39;49m, \u001b[39m0\u001b[39;49m) \u001b[39m+\u001b[39;49m im\u001b[39m.\u001b[39;49msize, \u001b[39m0\u001b[39;49m, rawmode)])\n\u001b[1;32m   1400\u001b[0m \u001b[39mif\u001b[39;00m info:\n\u001b[1;32m   1401\u001b[0m     \u001b[39mfor\u001b[39;00m info_chunk \u001b[39min\u001b[39;00m info\u001b[39m.\u001b[39mchunks:\n",
      "File \u001b[0;32m/nevis/westside/data/sc5303/conda/envs/kd4uboone/lib/python3.9/site-packages/PIL/ImageFile.py:519\u001b[0m, in \u001b[0;36m_save\u001b[0;34m(im, fp, tile, bufsize)\u001b[0m\n\u001b[1;32m    517\u001b[0m     _encode_tile(im, fp, tile, bufsize, fh)\n\u001b[1;32m    518\u001b[0m \u001b[39mexcept\u001b[39;00m (\u001b[39mAttributeError\u001b[39;00m, io\u001b[39m.\u001b[39mUnsupportedOperation) \u001b[39mas\u001b[39;00m exc:\n\u001b[0;32m--> 519\u001b[0m     _encode_tile(im, fp, tile, bufsize, \u001b[39mNone\u001b[39;49;00m, exc)\n\u001b[1;32m    520\u001b[0m \u001b[39mif\u001b[39;00m \u001b[39mhasattr\u001b[39m(fp, \u001b[39m\"\u001b[39m\u001b[39mflush\u001b[39m\u001b[39m\"\u001b[39m):\n\u001b[1;32m    521\u001b[0m     fp\u001b[39m.\u001b[39mflush()\n",
      "File \u001b[0;32m/nevis/westside/data/sc5303/conda/envs/kd4uboone/lib/python3.9/site-packages/PIL/ImageFile.py:538\u001b[0m, in \u001b[0;36m_encode_tile\u001b[0;34m(im, fp, tile, bufsize, fh, exc)\u001b[0m\n\u001b[1;32m    535\u001b[0m \u001b[39mif\u001b[39;00m exc:\n\u001b[1;32m    536\u001b[0m     \u001b[39m# compress to Python file-compatible object\u001b[39;00m\n\u001b[1;32m    537\u001b[0m     \u001b[39mwhile\u001b[39;00m \u001b[39mTrue\u001b[39;00m:\n\u001b[0;32m--> 538\u001b[0m         errcode, data \u001b[39m=\u001b[39m encoder\u001b[39m.\u001b[39;49mencode(bufsize)[\u001b[39m1\u001b[39m:]\n\u001b[1;32m    539\u001b[0m         fp\u001b[39m.\u001b[39mwrite(data)\n\u001b[1;32m    540\u001b[0m         \u001b[39mif\u001b[39;00m errcode:\n",
      "\u001b[0;31mKeyboardInterrupt\u001b[0m: "
     ]
    }
   ],
   "source": [
    "# Use boolean indexing to get the indices of values over the threshold\n",
    "indices = np.where(X_loss_student > 30)\n",
    "\n",
    "# Convert the indices to a list (if needed)\n",
    "indices_list = indices[0].tolist()\n",
    "\n",
    "zmax = adcsaturation\n",
    "\n",
    "# Turn off interactive plotting\n",
    "plt.ioff()\n",
    "\n",
    "for evt in indices_list:\n",
    "    fig, ax1 = plt.subplots(1, 1, figsize=(20, 15), dpi=600)\n",
    "    true_indice = evt\n",
    "    \n",
    "    # Transpose the image\n",
    "    transposed_image = full[true_indice%nEvt][:, :, 0].T\n",
    "\n",
    "    im1 = ax1.imshow(transposed_image, vmin=0, vmax=zmax, origin='lower', cmap='jet')\n",
    "    ax1.set_title(f\"Plane 2 run{event_ids[true_indice%nEvt][0]}, subrun{event_ids[true_indice%nEvt][1]}, event{event_ids[true_indice%nEvt][2]}, anomaly score: {X_loss_teacher[true_indice]:.2f} (teacher), {X_loss_student[true_indice][0]:.2f} (student)\")\n",
    "    ax1.set_xlabel(\"Wire\")\n",
    "    ax1.set_ylabel(\"Time Tick\")\n",
    "    ax1.axhline((true_indice//nEvt)*64, linewidth=0.5, color='yellow', ls='-')\n",
    "    ax1.axhline((true_indice//nEvt+1)*64, linewidth=0.5, color='yellow', ls='-')\n",
    "\n",
    "    # Save the figure without displaying it\n",
    "    fig.savefig(f'output/strips64/student/{event_ids[true_indice%nEvt]}.png')\n",
    "    # Close the figure to release resources\n",
    "    plt.close(fig)\n",
    "\n",
    "# Turn interactive plotting back on\n",
    "plt.ion()"
   ]
  },
  {
   "cell_type": "code",
   "execution_count": 13,
   "metadata": {},
   "outputs": [
    {
     "name": "stderr",
     "output_type": "stream",
     "text": [
      "WARNING:absl:Found untraced functions such as _jit_compiled_convolution_op, _jit_compiled_convolution_op, _jit_compiled_convolution_op, _jit_compiled_convolution_op, _jit_compiled_convolution_op while saving (showing 5 of 5). These functions will not be directly callable after loading.\n"
     ]
    },
    {
     "name": "stdout",
     "output_type": "stream",
     "text": [
      "INFO:tensorflow:Assets written to: /nevis/westside/data/sc5303/saved_models/teacher_slices64/assets\n"
     ]
    },
    {
     "name": "stderr",
     "output_type": "stream",
     "text": [
      "INFO:tensorflow:Assets written to: /nevis/westside/data/sc5303/saved_models/teacher_slices64/assets\n",
      "WARNING:absl:Function `_wrapped_model` contains input name(s) In with unsupported characters which will be renamed to in in the SavedModel.\n",
      "WARNING:absl:Found untraced functions such as _jit_compiled_convolution_op while saving (showing 1 of 1). These functions will not be directly callable after loading.\n"
     ]
    },
    {
     "name": "stdout",
     "output_type": "stream",
     "text": [
      "INFO:tensorflow:Assets written to: /nevis/westside/data/sc5303/saved_models/student_slices64/assets\n"
     ]
    },
    {
     "name": "stderr",
     "output_type": "stream",
     "text": [
      "INFO:tensorflow:Assets written to: /nevis/westside/data/sc5303/saved_models/student_slices64/assets\n"
     ]
    }
   ],
   "source": [
    "teacher.save('/nevis/westside/data/sc5303/saved_models/teacher_slices64')\n",
    "student.save('/nevis/westside/data/sc5303/saved_models/student_slices64')"
   ]
  },
  {
   "cell_type": "code",
   "execution_count": null,
   "metadata": {},
   "outputs": [],
   "source": [
    "teacher = tf.keras.models.load_model('saved_models/teacher2023_aug1')\n",
    "teacher.summary()\n",
    "tf.get_logger().setLevel('ERROR')\n",
    "#student = qkeras.utils.load_qmodel('saved_models/student2023_aug1_v1') # 2023 v1\n",
    "student = qkeras.utils.load_qmodel('saved_models/student2023_aug1_v2') # 2023 v2\n",
    "student.summary()\n",
    "student.get_config()"
   ]
  }
 ],
 "metadata": {
  "kernelspec": {
   "display_name": "Python 3",
   "language": "python",
   "name": "python3"
  },
  "language_info": {
   "codemirror_mode": {
    "name": "ipython",
    "version": 3
   },
   "file_extension": ".py",
   "mimetype": "text/x-python",
   "name": "python",
   "nbconvert_exporter": "python",
   "pygments_lexer": "ipython3",
   "version": "3.9.18"
  }
 },
 "nbformat": 4,
 "nbformat_minor": 4
}
