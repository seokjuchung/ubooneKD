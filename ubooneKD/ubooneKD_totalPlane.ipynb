{
 "cells": [
  {
   "cell_type": "markdown",
   "metadata": {},
   "source": [
    "Process whole plane for plane 2 without any downsampling"
   ]
  },
  {
   "cell_type": "code",
   "execution_count": 2,
   "metadata": {},
   "outputs": [
    {
     "name": "stderr",
     "output_type": "stream",
     "text": [
      "2023-10-27 22:12:06.548633: I tensorflow/core/platform/cpu_feature_guard.cc:193] This TensorFlow binary is optimized with oneAPI Deep Neural Network Library (oneDNN) to use the following CPU instructions in performance-critical operations:  SSE4.1 SSE4.2 AVX AVX2 FMA\n",
      "To enable them in other operations, rebuild TensorFlow with the appropriate compiler flags.\n",
      "/nevis/westside/data/sc5303/python3.9/site-packages/networkx/utils/backends.py:135: RuntimeWarning: networkx backend defined more than once: nx-loopback\n",
      "  backends.update(_get_backends(\"networkx.backends\"))\n"
     ]
    }
   ],
   "source": [
    "import h5py\n",
    "import numpy as np\n",
    "import pandas as pd\n",
    "import tensorflow as tf\n",
    "import matplotlib.pyplot as plt\n",
    "import seaborn as sns\n",
    "from sklearn.model_selection import train_test_split\n",
    "from sklearn.preprocessing import StandardScaler\n",
    "from tensorflow import keras\n",
    "from tensorflow.keras import layers, models\n",
    "from sklearn.metrics import roc_curve, auc\n",
    "import qkeras\n",
    "from qkeras import *\n",
    "from skimage.measure import block_reduce"
   ]
  },
  {
   "cell_type": "markdown",
   "metadata": {},
   "source": [
    "# Data Files"
   ]
  },
  {
   "cell_type": "code",
   "execution_count": 3,
   "metadata": {},
   "outputs": [],
   "source": [
    "# Open the HDF5 file\n",
    "file_path = '/nevis/westside/data/sc5303/OpenSamples/Data/bnb_WithWire_16.h5'\n",
    "\n",
    "with h5py.File(file_path, 'r') as hf:\n",
    "    # Access the \"wire_table\" group\n",
    "    wire_table_group = hf['wire_table']\n",
    "    startEvt = 0\n",
    "    endEvt = 100\n",
    "    # nEvt = endEvt - startEvt\n",
    "    # Define the start and end indices for the subset you want to load\n",
    "\n",
    "    # Load the subsets of the data using slicing and convert them to DataFrames\n",
    "    event_ids = [wire_table_group['event_id'][nEvt*8256] for nEvt in range(startEvt, endEvt)]\n",
    "    planeadcs = [wire_table_group['adc'][4800+nEvt*8256:8256+nEvt*8256] for nEvt in range(startEvt, endEvt)]\n",
    "\n",
    "    ntimeticks=6400\n",
    "    nplanes=len(planeadcs)\n",
    "\n",
    "\n",
    "    f_downsample = 10\n",
    "    for p in range(0,nplanes):\n",
    "        planeadcs[p] = block_reduce(planeadcs[p], block_size=(1,f_downsample), func=np.sum)\n",
    "\n",
    "    adccutoff = 10.*f_downsample/10.\n",
    "    adcsaturation = 100.*f_downsample/10.\n",
    "    for p in range(0,nplanes):\n",
    "        planeadcs[p][planeadcs[p]<adccutoff] = 0\n",
    "        planeadcs[p][planeadcs[p]>adcsaturation] = adcsaturation\n"
   ]
  },
  {
   "cell_type": "code",
   "execution_count": 23,
   "metadata": {},
   "outputs": [
    {
     "data": {
      "text/plain": [
       "array([ 7025,   575, 28751], dtype=int32)"
      ]
     },
     "execution_count": 23,
     "metadata": {},
     "output_type": "execute_result"
    }
   ],
   "source": [
    "event_ids[0]"
   ]
  },
  {
   "cell_type": "code",
   "execution_count": 4,
   "metadata": {
    "scrolled": true
   },
   "outputs": [
    {
     "name": "stdout",
     "output_type": "stream",
     "text": [
      "(100, 3456, 640)\n",
      "X      shape: (1000, 3456, 64, 1)\n"
     ]
    }
   ],
   "source": [
    "X = np.reshape(planeadcs, (-1,3456,64,1))\n",
    "print(np.shape(planeadcs))\n",
    "print('X      shape: ' + str(X.shape))"
   ]
  },
  {
   "cell_type": "code",
   "execution_count": 5,
   "metadata": {},
   "outputs": [
    {
     "name": "stdout",
     "output_type": "stream",
     "text": [
      "X_train shape: (499, 3456, 64, 1)\n",
      "X_val   shape: (101, 3456, 64, 1)\n",
      "X_test  shape: (400, 3456, 64, 1)\n"
     ]
    }
   ],
   "source": [
    "train_ratio = 0.5\n",
    "val_ratio = 0.1\n",
    "test_ratio = 1 - train_ratio - val_ratio\n",
    "X_train_val, X_test = train_test_split(X, test_size = test_ratio, random_state = 42)\n",
    "X_train, X_val = train_test_split(X_train_val, test_size = val_ratio/(val_ratio + train_ratio), random_state = 42)\n",
    "print('X_train shape: ' + str(X_train.shape))\n",
    "print('X_val   shape: ' + str(X_val.shape))\n",
    "print('X_test  shape: ' + str(X_test.shape))\n",
    "del X_train_val"
   ]
  },
  {
   "cell_type": "markdown",
   "metadata": {},
   "source": [
    "# CNN AE (teacher model)"
   ]
  },
  {
   "cell_type": "code",
   "execution_count": 6,
   "metadata": {},
   "outputs": [
    {
     "name": "stdout",
     "output_type": "stream",
     "text": [
      "Model: \"model\"\n",
      "_________________________________________________________________\n",
      " Layer (type)                Output Shape              Param #   \n",
      "=================================================================\n",
      " input (InputLayer)          [(None, 3456, 64, 1)]     0         \n",
      "                                                                 \n",
      " conv2d_1 (Conv2D)           (None, 3456, 64, 20)      200       \n",
      "                                                                 \n",
      " relu_1 (Activation)         (None, 3456, 64, 20)      0         \n",
      "                                                                 \n",
      " pool_1 (AveragePooling2D)   (None, 1728, 32, 20)      0         \n",
      "                                                                 \n",
      " conv2d_2 (Conv2D)           (None, 1728, 32, 30)      5430      \n",
      "                                                                 \n",
      " relu_2 (Activation)         (None, 1728, 32, 30)      0         \n",
      "                                                                 \n",
      " flatten (Flatten)           (None, 1658880)           0         \n",
      "                                                                 \n",
      " latent (Dense)              (None, 80)                132710480 \n",
      "                                                                 \n",
      "=================================================================\n",
      "Total params: 132,716,110\n",
      "Trainable params: 132,716,110\n",
      "Non-trainable params: 0\n",
      "_________________________________________________________________\n"
     ]
    },
    {
     "name": "stderr",
     "output_type": "stream",
     "text": [
      "2023-10-27 22:12:59.922354: I tensorflow/core/platform/cpu_feature_guard.cc:193] This TensorFlow binary is optimized with oneAPI Deep Neural Network Library (oneDNN) to use the following CPU instructions in performance-critical operations:  SSE4.1 SSE4.2 AVX AVX2 FMA\n",
      "To enable them in other operations, rebuild TensorFlow with the appropriate compiler flags.\n",
      "2023-10-27 22:13:00.715251: I tensorflow/core/common_runtime/gpu/gpu_device.cc:1613] Created device /job:localhost/replica:0/task:0/device:GPU:0 with 11445 MB memory:  -> device: 0, name: NVIDIA TITAN X (Pascal), pci bus id: 0000:01:00.0, compute capability: 6.1\n",
      "2023-10-27 22:13:00.715612: I tensorflow/core/common_runtime/gpu/gpu_device.cc:1613] Created device /job:localhost/replica:0/task:0/device:GPU:1 with 11445 MB memory:  -> device: 1, name: NVIDIA TITAN X (Pascal), pci bus id: 0000:02:00.0, compute capability: 6.1\n"
     ]
    }
   ],
   "source": [
    "encoder_input = tf.keras.Input(shape=(3456,64,1), name='input')\n",
    "\n",
    "encoder = layers.Conv2D(20, (3,3), strides=1, padding='same', name='conv2d_1')(encoder_input)\n",
    "encoder = layers.Activation('relu', name='relu_1')(encoder)\n",
    "encoder = layers.AveragePooling2D((2,2), name='pool_1')(encoder)\n",
    "encoder = layers.Conv2D(30, (3,3), strides=1, padding='same', name='conv2d_2')(encoder)\n",
    "encoder = layers.Activation('relu', name='relu_2')(encoder)\n",
    "encoder = layers.Flatten(name='flatten')(encoder)\n",
    "\n",
    "encoder_output = layers.Dense(80, activation='relu', name='latent')(encoder)\n",
    "\n",
    "encoder = tf.keras.models.Model(encoder_input, encoder_output)\n",
    "encoder.summary()"
   ]
  },
  {
   "cell_type": "code",
   "execution_count": 7,
   "metadata": {},
   "outputs": [],
   "source": [
    "decoder = layers.Dense(1728*32*15, name='dense')(encoder_output)\n",
    "decoder = layers.Reshape((1728,32,15), name='reshape2')(decoder)\n",
    "decoder = layers.Activation('relu', name='relu_3')(decoder)\n",
    "decoder = layers.Conv2D(15, (3,3), strides=1, padding='same', name='conv2d_3')(decoder)\n",
    "decoder = layers.Activation('relu', name='relu_4')(decoder)\n",
    "decoder = layers.UpSampling2D((2,2), name='upsampling')(decoder)\n",
    "decoder = layers.Conv2D(20, (3,3), strides=1, padding='same', name='conv2d_4')(decoder)\n",
    "decoder = layers.Activation('relu', name='relu_5')(decoder)\n",
    "\n",
    "decoder_output = layers.Conv2D(1, (3,3), activation='relu', strides=1, padding='same', name='output')(decoder)"
   ]
  },
  {
   "cell_type": "code",
   "execution_count": 8,
   "metadata": {},
   "outputs": [
    {
     "name": "stdout",
     "output_type": "stream",
     "text": [
      "Model: \"model_1\"\n",
      "_________________________________________________________________\n",
      " Layer (type)                Output Shape              Param #   \n",
      "=================================================================\n",
      " input (InputLayer)          [(None, 3456, 64, 1)]     0         \n",
      "                                                                 \n",
      " conv2d_1 (Conv2D)           (None, 3456, 64, 20)      200       \n",
      "                                                                 \n",
      " relu_1 (Activation)         (None, 3456, 64, 20)      0         \n",
      "                                                                 \n",
      " pool_1 (AveragePooling2D)   (None, 1728, 32, 20)      0         \n",
      "                                                                 \n",
      " conv2d_2 (Conv2D)           (None, 1728, 32, 30)      5430      \n",
      "                                                                 \n",
      " relu_2 (Activation)         (None, 1728, 32, 30)      0         \n",
      "                                                                 \n",
      " flatten (Flatten)           (None, 1658880)           0         \n",
      "                                                                 \n",
      " latent (Dense)              (None, 80)                132710480 \n",
      "                                                                 \n",
      " dense (Dense)               (None, 829440)            67184640  \n",
      "                                                                 \n",
      " reshape2 (Reshape)          (None, 1728, 32, 15)      0         \n",
      "                                                                 \n",
      " relu_3 (Activation)         (None, 1728, 32, 15)      0         \n",
      "                                                                 \n",
      " conv2d_3 (Conv2D)           (None, 1728, 32, 15)      2040      \n",
      "                                                                 \n",
      " relu_4 (Activation)         (None, 1728, 32, 15)      0         \n",
      "                                                                 \n",
      " upsampling (UpSampling2D)   (None, 3456, 64, 15)      0         \n",
      "                                                                 \n",
      " conv2d_4 (Conv2D)           (None, 3456, 64, 20)      2720      \n",
      "                                                                 \n",
      " relu_5 (Activation)         (None, 3456, 64, 20)      0         \n",
      "                                                                 \n",
      " output (Conv2D)             (None, 3456, 64, 1)       181       \n",
      "                                                                 \n",
      "=================================================================\n",
      "Total params: 199,905,691\n",
      "Trainable params: 199,905,691\n",
      "Non-trainable params: 0\n",
      "_________________________________________________________________\n"
     ]
    }
   ],
   "source": [
    "teacher = tf.keras.Model(encoder_input, decoder_output)\n",
    "teacher.summary()"
   ]
  },
  {
   "cell_type": "code",
   "execution_count": 9,
   "metadata": {},
   "outputs": [],
   "source": [
    "teacher.compile(optimizer = keras.optimizers.Adam(learning_rate=0.001), loss = 'mse')"
   ]
  },
  {
   "cell_type": "markdown",
   "metadata": {},
   "source": [
    "# Training"
   ]
  },
  {
   "cell_type": "code",
   "execution_count": 11,
   "metadata": {
    "scrolled": true
   },
   "outputs": [
    {
     "name": "stdout",
     "output_type": "stream",
     "text": [
      "Epoch 1/40\n"
     ]
    },
    {
     "name": "stderr",
     "output_type": "stream",
     "text": [
      "2023-10-27 22:17:15.111966: I tensorflow/compiler/xla/service/service.cc:173] XLA service 0x7fdb59f01720 initialized for platform CUDA (this does not guarantee that XLA will be used). Devices:\n",
      "2023-10-27 22:17:15.111987: I tensorflow/compiler/xla/service/service.cc:181]   StreamExecutor device (0): NVIDIA TITAN X (Pascal), Compute Capability 6.1\n",
      "2023-10-27 22:17:15.111991: I tensorflow/compiler/xla/service/service.cc:181]   StreamExecutor device (1): NVIDIA TITAN X (Pascal), Compute Capability 6.1\n",
      "2023-10-27 22:17:15.115698: I tensorflow/compiler/mlir/tensorflow/utils/dump_mlir_util.cc:268] disabling MLIR crash reproducer, set env var `MLIR_CRASH_REPRODUCER_DIRECTORY` to enable.\n",
      "2023-10-27 22:17:15.173593: I tensorflow/tsl/platform/default/subprocess.cc:304] Start cannot spawn child process: No such file or directory\n",
      "2023-10-27 22:17:15.206955: I tensorflow/compiler/jit/xla_compilation_cache.cc:477] Compiled cluster using XLA!  This line is logged at most once for the lifetime of the process.\n"
     ]
    },
    {
     "name": "stdout",
     "output_type": "stream",
     "text": [
      "16/16 [==============================] - 11s 378ms/step - loss: 17.5654 - val_loss: 19.9678\n",
      "Epoch 2/40\n",
      "16/16 [==============================] - 3s 199ms/step - loss: 17.5287 - val_loss: 19.9424\n",
      "Epoch 3/40\n",
      "16/16 [==============================] - 3s 199ms/step - loss: 17.5096 - val_loss: 19.9247\n",
      "Epoch 4/40\n",
      "16/16 [==============================] - 3s 200ms/step - loss: 17.5033 - val_loss: 19.9215\n",
      "Epoch 5/40\n",
      "16/16 [==============================] - 3s 201ms/step - loss: 17.5014 - val_loss: 19.9206\n",
      "Epoch 6/40\n",
      "16/16 [==============================] - 3s 201ms/step - loss: 17.4980 - val_loss: 19.9212\n",
      "Epoch 7/40\n",
      "16/16 [==============================] - 3s 201ms/step - loss: 17.4937 - val_loss: 19.9214\n",
      "Epoch 8/40\n",
      "16/16 [==============================] - 3s 202ms/step - loss: 17.4889 - val_loss: 19.9228\n",
      "Epoch 9/40\n",
      "16/16 [==============================] - 3s 201ms/step - loss: 17.4841 - val_loss: 19.9237\n",
      "Epoch 10/40\n",
      "16/16 [==============================] - 3s 202ms/step - loss: 17.4817 - val_loss: 19.9260\n",
      "Epoch 11/40\n",
      "16/16 [==============================] - 3s 202ms/step - loss: 17.4738 - val_loss: 19.9275\n",
      "Epoch 12/40\n",
      "16/16 [==============================] - 3s 201ms/step - loss: 17.4694 - val_loss: 19.9274\n",
      "Epoch 13/40\n",
      "16/16 [==============================] - 3s 202ms/step - loss: 17.4668 - val_loss: 19.9282\n",
      "Epoch 14/40\n",
      "16/16 [==============================] - 3s 203ms/step - loss: 17.4607 - val_loss: 19.9288\n",
      "Epoch 15/40\n",
      "16/16 [==============================] - 3s 202ms/step - loss: 17.4566 - val_loss: 19.9289\n",
      "Epoch 16/40\n",
      "16/16 [==============================] - 3s 202ms/step - loss: 17.4484 - val_loss: 19.9311\n",
      "Epoch 17/40\n",
      "16/16 [==============================] - 3s 203ms/step - loss: 17.4467 - val_loss: 19.9341\n",
      "Epoch 18/40\n",
      "16/16 [==============================] - 3s 203ms/step - loss: 17.4650 - val_loss: 19.9314\n",
      "Epoch 19/40\n",
      "16/16 [==============================] - 3s 203ms/step - loss: 17.4548 - val_loss: 19.9288\n",
      "Epoch 20/40\n",
      "16/16 [==============================] - 3s 204ms/step - loss: 17.4421 - val_loss: 19.9313\n",
      "Epoch 21/40\n",
      "16/16 [==============================] - 3s 202ms/step - loss: 17.4343 - val_loss: 19.9332\n",
      "Epoch 22/40\n",
      "16/16 [==============================] - 3s 204ms/step - loss: 17.4310 - val_loss: 19.9362\n",
      "Epoch 23/40\n",
      "16/16 [==============================] - 3s 204ms/step - loss: 17.4243 - val_loss: 19.9364\n",
      "Epoch 24/40\n",
      "16/16 [==============================] - 3s 203ms/step - loss: 17.4272 - val_loss: 19.9352\n",
      "Epoch 25/40\n",
      "16/16 [==============================] - 3s 203ms/step - loss: 17.4176 - val_loss: 19.9366\n",
      "Epoch 26/40\n",
      "16/16 [==============================] - 3s 204ms/step - loss: 17.4088 - val_loss: 19.9372\n",
      "Epoch 27/40\n",
      "16/16 [==============================] - 3s 203ms/step - loss: 17.4069 - val_loss: 19.9376\n",
      "Epoch 28/40\n",
      "16/16 [==============================] - 3s 203ms/step - loss: 17.4208 - val_loss: 19.9381\n",
      "Epoch 29/40\n",
      "16/16 [==============================] - 3s 203ms/step - loss: 17.4190 - val_loss: 19.9386\n",
      "Epoch 30/40\n",
      "16/16 [==============================] - 3s 204ms/step - loss: 17.4168 - val_loss: 19.9412\n",
      "Epoch 31/40\n",
      "16/16 [==============================] - 3s 204ms/step - loss: 17.4374 - val_loss: 19.9382\n",
      "Epoch 32/40\n",
      "16/16 [==============================] - 3s 204ms/step - loss: 17.4187 - val_loss: 19.9423\n",
      "Epoch 33/40\n",
      "16/16 [==============================] - 3s 204ms/step - loss: 17.4066 - val_loss: 19.9410\n",
      "Epoch 34/40\n",
      "16/16 [==============================] - 3s 204ms/step - loss: 17.3967 - val_loss: 19.9423\n",
      "Epoch 35/40\n",
      "16/16 [==============================] - 3s 204ms/step - loss: 17.3962 - val_loss: 19.9443\n",
      "Epoch 36/40\n",
      "16/16 [==============================] - 3s 205ms/step - loss: 17.3910 - val_loss: 19.9437\n",
      "Epoch 37/40\n",
      "16/16 [==============================] - 3s 205ms/step - loss: 17.3872 - val_loss: 19.9425\n",
      "Epoch 38/40\n",
      "16/16 [==============================] - 3s 205ms/step - loss: 17.3847 - val_loss: 19.9453\n",
      "Epoch 39/40\n",
      "16/16 [==============================] - 3s 204ms/step - loss: 17.3831 - val_loss: 19.9443\n",
      "Epoch 40/40\n",
      "16/16 [==============================] - 3s 204ms/step - loss: 17.3837 - val_loss: 19.9456\n"
     ]
    }
   ],
   "source": [
    "history = teacher.fit(X_train, X_train,\n",
    "                      epochs = 40,\n",
    "                      validation_data = (X_val, X_val),\n",
    "                      batch_size = 32)"
   ]
  },
  {
   "cell_type": "code",
   "execution_count": 12,
   "metadata": {},
   "outputs": [
    {
     "data": {
      "text/plain": [
       "Text(0, 0.5, 'Loss')"
      ]
     },
     "execution_count": 12,
     "metadata": {},
     "output_type": "execute_result"
    },
    {
     "data": {
      "image/png": "[encoded data removed]",
      "text/plain": [
       "<Figure size 1500x1000 with 1 Axes>"
      ]
     },
     "metadata": {},
     "output_type": "display_data"
    }
   ],
   "source": [
    "plt.figure(figsize = (15,10))\n",
    "axes = plt.subplot(2, 2, 1)\n",
    "axes.plot(history.history['loss'], label = 'train loss')\n",
    "axes.plot(history.history['val_loss'], label = 'val loss')\n",
    "axes.legend(loc = \"upper right\")\n",
    "axes.set_xlabel('Epoch')\n",
    "axes.set_ylabel('Loss')"
   ]
  },
  {
   "cell_type": "markdown",
   "metadata": {},
   "source": [
    "# Save/load trained models"
   ]
  },
  {
   "cell_type": "code",
   "execution_count": 13,
   "metadata": {},
   "outputs": [
    {
     "name": "stderr",
     "output_type": "stream",
     "text": [
      "WARNING:absl:Found untraced functions such as _jit_compiled_convolution_op, _jit_compiled_convolution_op, _jit_compiled_convolution_op, _jit_compiled_convolution_op, _jit_compiled_convolution_op while saving (showing 5 of 5). These functions will not be directly callable after loading.\n"
     ]
    },
    {
     "name": "stdout",
     "output_type": "stream",
     "text": [
      "INFO:tensorflow:Assets written to: /nevis/westside/data/sc5303/saved_models/teacher_slices64/assets\n"
     ]
    },
    {
     "name": "stderr",
     "output_type": "stream",
     "text": [
      "INFO:tensorflow:Assets written to: /nevis/westside/data/sc5303/saved_models/teacher_slices64/assets\n"
     ]
    }
   ],
   "source": [
    "teacher.save('/nevis/westside/data/sc5303/saved_models/teacher_slices64')"
   ]
  },
  {
   "cell_type": "code",
   "execution_count": null,
   "metadata": {},
   "outputs": [],
   "source": [
    "teacher = tf.keras.models.load_model('saved_models/teacher2023_aug1')\n",
    "teacher.summary()"
   ]
  },
  {
   "cell_type": "code",
   "execution_count": null,
   "metadata": {},
   "outputs": [],
   "source": [
    "#student.save('saved_models/student2023_aug1_v1/')\n",
    "student.save('saved_models/student2023_aug1_v2/')"
   ]
  },
  {
   "cell_type": "code",
   "execution_count": null,
   "metadata": {
    "scrolled": true
   },
   "outputs": [],
   "source": [
    "tf.get_logger().setLevel('ERROR')\n",
    "#student = qkeras.utils.load_qmodel('saved_models/student2023_aug1_v1') # 2023 v1\n",
    "student = qkeras.utils.load_qmodel('saved_models/student2023_aug1_v2') # 2023 v2\n",
    "student.summary()\n",
    "student.get_config()"
   ]
  },
  {
   "cell_type": "markdown",
   "metadata": {},
   "source": [
    "# Loss distribution"
   ]
  },
  {
   "cell_type": "code",
   "execution_count": 14,
   "metadata": {},
   "outputs": [
    {
     "name": "stdout",
     "output_type": "stream",
     "text": [
      " 3/16 [====>.........................] - ETA: 0s"
     ]
    },
    {
     "name": "stderr",
     "output_type": "stream",
     "text": [
      "2023-10-27 22:22:35.241365: W tensorflow/tsl/framework/bfc_allocator.cc:290] Allocator (GPU_0_bfc) ran out of memory trying to allocate 4.76GiB with freed_by_count=0. The caller indicates that this is not a failure, but this may mean that there could be performance gains if more memory were available.\n",
      "2023-10-27 22:22:35.241404: W tensorflow/tsl/framework/bfc_allocator.cc:290] Allocator (GPU_0_bfc) ran out of memory trying to allocate 4.76GiB with freed_by_count=0. The caller indicates that this is not a failure, but this may mean that there could be performance gains if more memory were available.\n"
     ]
    },
    {
     "name": "stdout",
     "output_type": "stream",
     "text": [
      "16/16 [==============================] - 1s 61ms/step\n",
      "4/4 [==============================] - 0s 75ms/step\n",
      "13/13 [==============================] - 1s 108ms/step\n"
     ]
    }
   ],
   "source": [
    "X_train_predict_teacher = teacher.predict(X_train)\n",
    "X_val_predict_teacher = teacher.predict(X_val)\n",
    "X_test_predict_teacher = teacher.predict(X_test)"
   ]
  },
  {
   "cell_type": "code",
   "execution_count": 15,
   "metadata": {},
   "outputs": [],
   "source": [
    "def loss(y_true, y_pred, choice):\n",
    "    if choice == 'mse':\n",
    "        loss = np.mean((y_true - y_pred)**2, axis = (1,2,3))\n",
    "        return loss"
   ]
  },
  {
   "cell_type": "code",
   "execution_count": 16,
   "metadata": {},
   "outputs": [],
   "source": [
    "X_train_loss_teacher = loss(X_train, X_train_predict_teacher, 'mse')\n",
    "X_val_loss_teacher = loss(X_val, X_val_predict_teacher, 'mse')\n",
    "X_test_loss_teacher = loss(X_test, X_test_predict_teacher, 'mse')"
   ]
  },
  {
   "cell_type": "code",
   "execution_count": 17,
   "metadata": {},
   "outputs": [
    {
     "data": {
      "image/png": "[encoded data removed]",
      "text/plain": [
       "<Figure size 640x480 with 1 Axes>"
      ]
     },
     "metadata": {},
     "output_type": "display_data"
    }
   ],
   "source": [
    "nbins = 80\n",
    "rmin = 0\n",
    "rmax = 100\n",
    "plt.hist(X_train_loss_teacher, density = 1, bins = nbins, alpha = 1, label = 'train (ZeroBias)', range = (rmin, rmax), log = True, histtype='step')\n",
    "plt.hist(X_val_loss_teacher, density = 1, bins = nbins, alpha = 1, label = 'val (ZeroBias)', range = (rmin, rmax), log = True, histtype='step')\n",
    "plt.hist(X_test_loss_teacher, density = 1, bins = nbins, alpha = 1, label = 'test (ZeroBias)', range = (rmin, rmax), log = True, histtype='step')\n",
    "plt.legend(loc='center left', bbox_to_anchor=(1, 0.5))\n",
    "plt.xlabel(\"Anomaly score (teacher)\")\n",
    "plt.show()"
   ]
  },
  {
   "cell_type": "code",
   "execution_count": 18,
   "metadata": {},
   "outputs": [
    {
     "data": {
      "text/plain": [
       "<contextlib.ExitStack at 0x7fe1c87c8f40>"
      ]
     },
     "execution_count": 18,
     "metadata": {},
     "output_type": "execute_result"
    }
   ],
   "source": [
    "# Use boolean indexing to get the indices of values over the threshold\n",
    "indices = np.where(X_test_loss_teacher > 60)\n",
    "\n",
    "# Convert the indices to a list (if needed)\n",
    "indices_list = indices[0].tolist()\n",
    "\n",
    "zmax = adcsaturation\n",
    "\n",
    "# Turn off interactive plotting\n",
    "plt.ioff()\n",
    "\n",
    "for evt in indices_list:\n",
    "    fig, ax1 = plt.subplots(1, 1, figsize=(20, 15), dpi=600)\n",
    "\n",
    "    # Transpose the image\n",
    "    transposed_image = X_test[evt][:, :, 0].T\n",
    "\n",
    "    im1 = ax1.imshow(transposed_image, vmin=0, vmax=zmax, origin='lower', cmap='jet')\n",
    "    ax1.set_title(f\"Plane 2 evt{evt}\")\n",
    "    ax1.set_xlabel(\"Wire\")\n",
    "    ax1.set_ylabel(\"Time Tick\")\n",
    "\n",
    "    # Save the figure without displaying it\n",
    "    fig.savefig(f'output/3456X64/{evt}.png')\n",
    "    \n",
    "    # Close the figure to release resources\n",
    "    plt.close(fig)\n",
    "\n",
    "# Turn interactive plotting back on\n",
    "plt.ion()"
   ]
  },
  {
   "cell_type": "code",
   "execution_count": 31,
   "metadata": {},
   "outputs": [
    {
     "data": {
      "text/plain": [
       "<contextlib.ExitStack at 0x7f9843fc4130>"
      ]
     },
     "execution_count": 31,
     "metadata": {},
     "output_type": "execute_result"
    }
   ],
   "source": [
    "# Use boolean indexing to get the indices of values over the threshold\n",
    "import random\n",
    "random_numbers = [random.randint(0, 400) for _ in range(10)]\n",
    "zmax = adcsaturation\n",
    "\n",
    "# Turn off interactive plotting\n",
    "plt.ioff()\n",
    "\n",
    "for evt in random_numbers:\n",
    "    fig, ax1 = plt.subplots(1, 1, figsize=(20, 15), dpi=600)\n",
    "\n",
    "    # Transpose the image\n",
    "    transposed_image = X_test[evt][:, :, 0].T\n",
    "\n",
    "    im1 = ax1.imshow(transposed_image, vmin=0, vmax=zmax, origin='lower', cmap='jet')\n",
    "    ax1.set_title(f\"Plane 2 evt{evt}\")\n",
    "    ax1.set_xlabel(\"Wire\")\n",
    "    ax1.set_ylabel(\"Time Tick\")\n",
    "\n",
    "    # Save the figure without displaying it\n",
    "    fig.savefig(f'output/3456X64/{evt}_random.png')\n",
    "    \n",
    "    # Close the figure to release resources\n",
    "    plt.close(fig)\n",
    "\n",
    "# Turn interactive plotting back on\n",
    "plt.ion()"
   ]
  },
  {
   "cell_type": "code",
   "execution_count": 24,
   "metadata": {},
   "outputs": [
    {
     "data": {
      "text/plain": [
       "[39, 86, 157, 220, 237, 331, 392]"
      ]
     },
     "execution_count": 24,
     "metadata": {},
     "output_type": "execute_result"
    }
   ],
   "source": [
    "indices_list"
   ]
  },
  {
   "cell_type": "markdown",
   "metadata": {},
   "source": [
    "# Comparison between original and reconstructed inputs"
   ]
  },
  {
   "cell_type": "code",
   "execution_count": null,
   "metadata": {},
   "outputs": [],
   "source": [
    "show_ZB = True\n",
    "# show_ZB = False\n",
    "n = 3\n",
    "for i in range(280,300):\n",
    "    fig, ax = plt.subplots(figsize = (17,17))\n",
    "    if show_ZB == True:\n",
    "        print('ZB test\\nloss = ' + str(X_test_loss_teacher[i]))\n",
    "    else:\n",
    "        print(str(MC_files[n]) + '\\nloss = ' + str(MC_flag_loss_teacher[n][i]))\n",
    "    ax = plt.subplot(3, 3, 1)\n",
    "    if show_ZB == True:\n",
    "        ax = sns.heatmap(X_test[i].reshape(24, 20), vmin = 0, vmax = X_test[i].max(), cmap = \"Purples\", cbar_kws = {'label': 'ET (GeV)'})\n",
    "    else:\n",
    "        ax = sns.heatmap(MC_flag[n][i].reshape(18, 14), vmin = 0, vmax = MC_flag[n][i].max(), cmap = \"Purples\", cbar_kws = {'label': 'ET (GeV)'})\n",
    "    ax.get_xaxis().set_visible(False)\n",
    "    ax.get_yaxis().set_visible(False)\n",
    "    ax.set_title('Original')\n",
    "    \n",
    "    ax = plt.subplot(3, 3, 2)\n",
    "    if show_ZB == True:\n",
    "        ax = sns.heatmap(X_test_predict_teacher[i].reshape(24, 20), vmin = 0, vmax = X_test[i].max(), cmap = \"Purples\", cbar_kws = {'label': 'ET (GeV)'})\n",
    "    else:\n",
    "        ax = sns.heatmap(MC_flag_predict_teacher[n][i].reshape(18, 14), vmin = 0, vmax = MC_flag[n][i].max(), cmap = \"Purples\", cbar_kws = {'label': 'ET (GeV)'})\n",
    "    ax.get_xaxis().set_visible(False)\n",
    "    ax.get_yaxis().set_visible(False)\n",
    "    ax.set_title('Reconstructed')\n",
    "    \n",
    "    ax = plt.subplot(3, 3, 3)\n",
    "    if show_ZB == True:\n",
    "        ax = sns.heatmap(np.absolute(X_test_predict_teacher[i].reshape(24, 20) - X_test[i].reshape(24, 20)), vmin = 0, vmax = X_test[i].max(), cmap = \"Purples\", cbar_kws = {'label': 'ET (GeV)'})\n",
    "    else:\n",
    "        ax = sns.heatmap(np.absolute(MC_flag_predict_teacher[n][i].reshape(18, 14) - MC_flag[n][i].reshape(18, 14)), vmin = 0, vmax = MC_flag[n][i].max(), cmap = \"Purples\", cbar_kws = {'label': 'ET (GeV)'})\n",
    "    ax.get_xaxis().set_visible(False)\n",
    "    ax.get_yaxis().set_visible(False)\n",
    "    ax.set_title('abs(original-reconstructed)')\n",
    "\n",
    "    plt.show()"
   ]
  },
  {
   "cell_type": "markdown",
   "metadata": {},
   "source": [
    "# Knowledge Distillation (+ quantizing with QKeras)"
   ]
  },
  {
   "cell_type": "code",
   "execution_count": 21,
   "metadata": {},
   "outputs": [
    {
     "name": "stdout",
     "output_type": "stream",
     "text": [
      "Model: \"model_3\"\n",
      "_________________________________________________________________\n",
      " Layer (type)                Output Shape              Param #   \n",
      "=================================================================\n",
      " In (InputLayer)             [(None, 480)]             0         \n",
      "                                                                 \n",
      " dense1 (QDense)             (None, 15)                7200      \n",
      "                                                                 \n",
      " QBN1 (QBatchNormalization)  (None, 15)                60        \n",
      "                                                                 \n",
      " relu1 (QActivation)         (None, 15)                0         \n",
      "                                                                 \n",
      " output (QDense)             (None, 1)                 15        \n",
      "                                                                 \n",
      "=================================================================\n",
      "Total params: 7275 (28.42 KB)\n",
      "Trainable params: 7245 (28.30 KB)\n",
      "Non-trainable params: 30 (120.00 Byte)\n",
      "_________________________________________________________________\n"
     ]
    }
   ],
   "source": [
    "# v1\n",
    "x_in = layers.Input(shape=(480,), name=\"In\")\n",
    "\n",
    "x = QDense(15, kernel_quantizer=quantized_bits(2, 0, 1, alpha=1.0),\n",
    "           use_bias=False, name='dense1')(x_in)\n",
    "x = QBatchNormalization(beta_quantizer=quantized_bits(10, 2, 1, alpha='auto'),\n",
    "                        gamma_quantizer=quantized_bits(10, 2, 1, alpha='auto'),\n",
    "                        mean_quantizer=quantized_bits(10, 2, 1, alpha='auto'),\n",
    "                        variance_quantizer=quantized_bits(10, 2, 1, alpha='auto'),\n",
    "                        name = 'QBN1')(x)\n",
    "x = QActivation('quantized_relu(5, 2)', name='relu1')(x)\n",
    "x = QDense(1, kernel_quantizer=quantized_bits(4, 0, 1, alpha=1.0),\n",
    "           use_bias=False, name='output')(x)\n",
    "\n",
    "student = tf.keras.models.Model(x_in, x)\n",
    "student.summary()\n",
    "student.compile(optimizer = 'adam', loss = 'mse')"
   ]
  },
  {
   "cell_type": "code",
   "execution_count": 22,
   "metadata": {},
   "outputs": [
    {
     "name": "stdout",
     "output_type": "stream",
     "text": [
      "Model: \"model_4\"\n",
      "_________________________________________________________________\n",
      " Layer (type)                Output Shape              Param #   \n",
      "=================================================================\n",
      " In (InputLayer)             [(None, 480)]             0         \n",
      "                                                                 \n",
      " reshape (Reshape)           (None, 24, 20, 1)         0         \n",
      "                                                                 \n",
      " conv (QConv2D)              (None, 11, 9, 3)          27        \n",
      "                                                                 \n",
      " relu1 (QActivation)         (None, 11, 9, 3)          0         \n",
      "                                                                 \n",
      " flatten (Flatten)           (None, 297)               0         \n",
      "                                                                 \n",
      " dense1 (QDense)             (None, 20)                5940      \n",
      "                                                                 \n",
      " relu2 (QActivation)         (None, 20)                0         \n",
      "                                                                 \n",
      " output (QDense)             (None, 1)                 20        \n",
      "                                                                 \n",
      "=================================================================\n",
      "Total params: 5987 (23.39 KB)\n",
      "Trainable params: 5987 (23.39 KB)\n",
      "Non-trainable params: 0 (0.00 Byte)\n",
      "_________________________________________________________________\n"
     ]
    }
   ],
   "source": [
    "# v2\n",
    "x_in = layers.Input(shape=(480,), name=\"In\")\n",
    "x = layers.Reshape((24,20,1), name='reshape')(x_in)\n",
    "\n",
    "x = QConv2D(3,(3,3), strides=2, padding=\"valid\", use_bias=False,\n",
    "            kernel_quantizer=quantized_bits(16,4,1,alpha='auto'), name='conv')(x)\n",
    "x = QActivation('quantized_relu(16,4)', name='relu1')(x)\n",
    "x = layers.Flatten(name='flatten')(x)\n",
    "x = QDense(20, kernel_quantizer=quantized_bits(16,4,1,alpha='auto'),\n",
    "           use_bias=False, name='dense1')(x)\n",
    "x = QActivation('quantized_relu(16,4)', name='relu2')(x)\n",
    "x = QDense(1, kernel_quantizer=quantized_bits(16,2,1,alpha='auto'),\n",
    "           use_bias=False, name='output')(x)\n",
    "\n",
    "student = tf.keras.models.Model(x_in, x)\n",
    "student.summary()\n",
    "student.compile(optimizer = 'adam', loss = 'mse')"
   ]
  },
  {
   "cell_type": "code",
   "execution_count": 23,
   "metadata": {
    "scrolled": true
   },
   "outputs": [
    {
     "name": "stdout",
     "output_type": "stream",
     "text": [
      "Epoch 1/30\n",
      "3/3 [==============================] - 1s 113ms/step - loss: 7.1903 - val_loss: 84.3633\n",
      "Epoch 2/30\n",
      "3/3 [==============================] - 0s 15ms/step - loss: 5.9196 - val_loss: 79.8704\n",
      "Epoch 3/30\n",
      "3/3 [==============================] - 0s 14ms/step - loss: 5.0540 - val_loss: 76.3021\n",
      "Epoch 4/30\n",
      "3/3 [==============================] - 0s 14ms/step - loss: 4.5499 - val_loss: 73.4599\n",
      "Epoch 5/30\n",
      "3/3 [==============================] - 0s 14ms/step - loss: 4.1437 - val_loss: 71.4422\n",
      "Epoch 6/30\n",
      "3/3 [==============================] - 0s 14ms/step - loss: 3.8616 - val_loss: 70.1894\n",
      "Epoch 7/30\n",
      "3/3 [==============================] - 0s 14ms/step - loss: 3.6351 - val_loss: 69.5837\n",
      "Epoch 8/30\n",
      "3/3 [==============================] - 0s 15ms/step - loss: 3.4617 - val_loss: 69.3769\n",
      "Epoch 9/30\n",
      "3/3 [==============================] - 0s 14ms/step - loss: 3.2555 - val_loss: 69.6101\n",
      "Epoch 10/30\n",
      "3/3 [==============================] - 0s 14ms/step - loss: 3.0909 - val_loss: 69.9823\n",
      "Epoch 11/30\n",
      "3/3 [==============================] - 0s 14ms/step - loss: 2.9429 - val_loss: 70.4911\n",
      "Epoch 12/30\n",
      "3/3 [==============================] - 0s 13ms/step - loss: 2.8169 - val_loss: 70.9339\n",
      "Epoch 13/30\n",
      "3/3 [==============================] - 0s 14ms/step - loss: 2.6855 - val_loss: 71.3516\n",
      "Epoch 14/30\n",
      "3/3 [==============================] - 0s 13ms/step - loss: 2.5890 - val_loss: 71.6588\n",
      "Epoch 15/30\n",
      "3/3 [==============================] - 0s 13ms/step - loss: 2.4930 - val_loss: 71.7173\n",
      "Epoch 16/30\n",
      "3/3 [==============================] - 0s 13ms/step - loss: 2.3888 - val_loss: 71.6832\n",
      "Epoch 17/30\n",
      "3/3 [==============================] - 0s 13ms/step - loss: 2.3097 - val_loss: 71.4466\n",
      "Epoch 18/30\n",
      "3/3 [==============================] - 0s 13ms/step - loss: 2.2291 - val_loss: 71.1203\n",
      "Epoch 19/30\n",
      "3/3 [==============================] - 0s 13ms/step - loss: 2.1428 - val_loss: 70.8685\n",
      "Epoch 20/30\n",
      "3/3 [==============================] - 0s 13ms/step - loss: 2.0661 - val_loss: 70.6866\n",
      "Epoch 21/30\n",
      "3/3 [==============================] - 0s 13ms/step - loss: 2.0076 - val_loss: 70.4679\n",
      "Epoch 22/30\n",
      "3/3 [==============================] - 0s 13ms/step - loss: 1.9312 - val_loss: 70.3437\n",
      "Epoch 23/30\n",
      "3/3 [==============================] - 0s 13ms/step - loss: 1.8696 - val_loss: 70.3092\n",
      "Epoch 24/30\n",
      "3/3 [==============================] - 0s 13ms/step - loss: 1.8027 - val_loss: 70.3359\n",
      "Epoch 25/30\n",
      "3/3 [==============================] - 0s 13ms/step - loss: 1.7520 - val_loss: 70.3042\n",
      "Epoch 26/30\n",
      "3/3 [==============================] - 0s 14ms/step - loss: 1.6824 - val_loss: 70.4797\n",
      "Epoch 27/30\n",
      "3/3 [==============================] - 0s 13ms/step - loss: 1.6339 - val_loss: 70.5484\n",
      "Epoch 28/30\n",
      "3/3 [==============================] - 0s 13ms/step - loss: 1.5763 - val_loss: 70.6236\n",
      "Epoch 29/30\n",
      "3/3 [==============================] - 0s 13ms/step - loss: 1.5315 - val_loss: 70.5733\n",
      "Epoch 30/30\n",
      "3/3 [==============================] - 0s 13ms/step - loss: 1.4763 - val_loss: 70.5872\n"
     ]
    }
   ],
   "source": [
    "history = student.fit(X_train.reshape((-1,480,1)), X_train_loss_teacher,\n",
    "                      epochs = 30,\n",
    "                      validation_data = (X_val.reshape((-1,480,1)), X_val_loss_teacher),\n",
    "                      batch_size = 1024)"
   ]
  },
  {
   "cell_type": "code",
   "execution_count": 24,
   "metadata": {},
   "outputs": [
    {
     "data": {
      "text/plain": [
       "Text(0, 0.5, 'Loss')"
      ]
     },
     "execution_count": 24,
     "metadata": {},
     "output_type": "execute_result"
    },
    {
     "data": {
      "image/png": "[encoded data removed]",
      "text/plain": [
       "<Figure size 1500x1000 with 1 Axes>"
      ]
     },
     "metadata": {},
     "output_type": "display_data"
    }
   ],
   "source": [
    "plt.figure(figsize = (15,10))\n",
    "axes = plt.subplot(2, 2, 1)\n",
    "axes.plot(history.history['loss'], label = 'train loss')\n",
    "#axes.set_yscale(value = \"log\")\n",
    "axes.plot(history.history['val_loss'], label = 'val loss')\n",
    "axes.legend(loc = \"upper right\")\n",
    "axes.set_xlabel('Epoch')\n",
    "axes.set_ylabel('Loss')"
   ]
  },
  {
   "cell_type": "code",
   "execution_count": 28,
   "metadata": {},
   "outputs": [
    {
     "name": "stdout",
     "output_type": "stream",
     "text": [
      "84/84 [==============================] - 0s 1ms/step\n",
      "17/17 [==============================] - 0s 1ms/step\n",
      "67/67 [==============================] - 0s 993us/step\n"
     ]
    }
   ],
   "source": [
    "X_train_loss_student = student.predict(X_train.reshape((-1,480,1)))\n",
    "X_val_loss_student = student.predict(X_val.reshape((-1,480,1)))\n",
    "X_test_loss_student = student.predict(X_test.reshape((-1,480,1)))\n",
    "# MC_loss_student = []\n",
    "# MC_flag_loss_student = []\n",
    "# for i in range(len(MC)):\n",
    "#     MC_loss_student.append(student.predict(MC[i].reshape((-1,252,1))))\n",
    "#     MC_flag_loss_student.append(student.predict(MC_flag[i].reshape((-1,252,1))))"
   ]
  },
  {
   "cell_type": "code",
   "execution_count": 30,
   "metadata": {},
   "outputs": [
    {
     "data": {
      "image/png": "[encoded data removed]",
      "text/plain": [
       "<Figure size 640x480 with 1 Axes>"
      ]
     },
     "metadata": {},
     "output_type": "display_data"
    }
   ],
   "source": [
    "nbins = 60\n",
    "rmin = 0\n",
    "rmax = 60\n",
    "plt.hist(X_train_loss_student, density = 1, bins = nbins, alpha = 0.1, label = 'ZB23train', range = (rmin, rmax), log = True)\n",
    "plt.hist(X_val_loss_student, density = 1, bins = nbins, alpha = 0.1, label = 'ZB23val', range = (rmin, rmax), log = True)\n",
    "plt.hist(X_test_loss_student, density = 1, bins = nbins, alpha = 0.1, label = 'ZB23', range = (rmin, rmax), log = True)\n",
    "# plt.hist(MC_flag_loss_student[0], density = 1, bins = nbins, label = 'H_ToLongLived', color='green', histtype = 'step', range = (rmin, rmax))\n",
    "# plt.hist(MC_flag_loss_student[1], density = 1, bins = nbins, label = 'SUEP', color='red', histtype = 'step', range = (rmin, rmax))\n",
    "# plt.hist(MC_flag_loss_student[2], density = 1, bins = nbins, label = 'SUSYGGBBH', color='blue', histtype = 'step', range = (rmin, rmax))\n",
    "# plt.hist(MC_flag_loss_student[3], density = 1, bins = nbins, label = 'TT', color='orange', histtype = 'step', range = (rmin, rmax))\n",
    "# plt.hist(MC_flag_loss_student[4], density = 1, bins = nbins, label = 'VBFHto2C', color='purple', histtype = 'step', range = (rmin, rmax))\n",
    "#plt.legend(loc='center left', bbox_to_anchor=(1, 0.5))\n",
    "#plt.legend(loc='center left', bbox_to_anchor=(0.57, 0.5))\n",
    "plt.title('CICADA_v3_v2')\n",
    "plt.legend(loc='best')\n",
    "plt.xlabel(\"Score\")\n",
    "#plt.xticks(np.arange(rmin, rmax, step = 0.0002))\n",
    "plt.show()"
   ]
  },
  {
   "cell_type": "code",
   "execution_count": null,
   "metadata": {},
   "outputs": [],
   "source": [
    "X_test_A_loss_student = student.predict(X_A.reshape((-1,252,1)))\n",
    "X_test_B_loss_student = student.predict(X_B.reshape((-1,252,1)))\n",
    "X_test_C_loss_student = student.predict(X_C.reshape((-1,252,1)))\n",
    "X_test_D_loss_student = student.predict(X_D.reshape((-1,252,1)))\n",
    "X_test_EphC_loss_student = student.predict(X_EphC.reshape((-1,252,1)))"
   ]
  },
  {
   "cell_type": "code",
   "execution_count": null,
   "metadata": {},
   "outputs": [],
   "source": [
    "nbins = 100\n",
    "rmin = 0\n",
    "rmax = 25\n",
    "plt.hist(X_test_A_loss_student, density = 1, bins = nbins, label = 'ZB23A', range = (rmin, rmax), log = True, histtype = 'step')\n",
    "plt.hist(X_test_B_loss_student, density = 1, bins = nbins, label = 'ZB23B', range = (rmin, rmax), log = True, histtype = 'step')\n",
    "plt.hist(X_test_C_loss_student, density = 1, bins = nbins, label = 'ZB23C', range = (rmin, rmax), log = True, histtype = 'step')\n",
    "plt.hist(X_test_D_loss_student, density = 1, bins = nbins, label = 'ZB23D', range = (rmin, rmax), log = True, histtype = 'step')\n",
    "plt.hist(X_test_EphC_loss_student, density = 1, bins = nbins, label = 'EZB23C', range = (rmin, rmax), log = True, histtype = 'step')\n",
    "plt.legend(loc='center left', bbox_to_anchor=(1, 0.5))\n",
    "plt.legend(loc='center left', bbox_to_anchor=(0.57, 0.5))\n",
    "plt.title('CICADA_v3_v2, scores on different ZB runs')\n",
    "plt.legend(loc='best')\n",
    "plt.xlabel(\"Score\")\n",
    "#plt.xticks(np.arange(rmin, rmax, step = 0.0002))\n",
    "plt.show()"
   ]
  },
  {
   "cell_type": "markdown",
   "metadata": {},
   "source": [
    "# ROC plotting"
   ]
  },
  {
   "cell_type": "markdown",
   "metadata": {},
   "source": [
    "### Assigning labels and arranging for ROC plotting"
   ]
  },
  {
   "cell_type": "code",
   "execution_count": null,
   "metadata": {},
   "outputs": [],
   "source": [
    "signal_acceptance_flag = True\n",
    "\n",
    "#Assign labels for various signals (y = 1) and backgrounds (y = 0)\n",
    "Y_bkg = np.zeros((X_test.shape[0], 1))\n",
    "Y_sig = []\n",
    "for i in range(len(MC)):\n",
    "    if signal_acceptance_flag == False:\n",
    "        Y_sig.append(np.ones((MC[i].shape[0], 1)))\n",
    "    else:\n",
    "        Y_sig.append(np.ones((MC_flag[i].shape[0], 1)))\n",
    "\n",
    "#Concatenate datasets to make ROC curves\n",
    "\n",
    "#True labels\n",
    "Y_true = []\n",
    "#Model scores\n",
    "Y_teacher = []\n",
    "Y_student = []\n",
    "\n",
    "for i in range(len(MC)):\n",
    "    if signal_acceptance_flag == False:\n",
    "        Y_true.append(np.concatenate((Y_sig[i], Y_bkg)))\n",
    "        Y_teacher.append(np.concatenate((MC_loss_teacher[i], X_test_loss_teacher)))\n",
    "        Y_student.append(np.concatenate((MC_loss_student[i], X_test_loss_student)))\n",
    "    else:\n",
    "        Y_true.append(np.concatenate((Y_sig[i], Y_bkg)))\n",
    "        Y_teacher.append(np.concatenate((MC_flag_loss_teacher[i], X_test_loss_teacher)))\n",
    "        Y_student.append(np.concatenate((MC_flag_loss_student[i], X_test_loss_student)))"
   ]
  },
  {
   "cell_type": "markdown",
   "metadata": {},
   "source": [
    "### Teacher model ROC"
   ]
  },
  {
   "cell_type": "code",
   "execution_count": 31,
   "metadata": {},
   "outputs": [
    {
     "ename": "NameError",
     "evalue": "name 'MC' is not defined",
     "output_type": "error",
     "traceback": [
      "\u001b[0;31m---------------------------------------------------------------------------\u001b[0m",
      "\u001b[0;31mNameError\u001b[0m                                 Traceback (most recent call last)",
      "\u001b[1;32m/nevis/houston/home/sc5303/anomaly/ubooneKD/ubooneKD.ipynb Cell 39\u001b[0m line \u001b[0;36m7\n\u001b[1;32m      <a href='vscode-notebook-cell://ssh-remote%2Blee/nevis/houston/home/sc5303/anomaly/ubooneKD/ubooneKD.ipynb#X53sdnNjb2RlLXJlbW90ZQ%3D%3D?line=4'>5</a>\u001b[0m thresholds_teacher \u001b[39m=\u001b[39m []\n\u001b[1;32m      <a href='vscode-notebook-cell://ssh-remote%2Blee/nevis/houston/home/sc5303/anomaly/ubooneKD/ubooneKD.ipynb#X53sdnNjb2RlLXJlbW90ZQ%3D%3D?line=5'>6</a>\u001b[0m roc_auc_teacher \u001b[39m=\u001b[39m []\n\u001b[0;32m----> <a href='vscode-notebook-cell://ssh-remote%2Blee/nevis/houston/home/sc5303/anomaly/ubooneKD/ubooneKD.ipynb#X53sdnNjb2RlLXJlbW90ZQ%3D%3D?line=6'>7</a>\u001b[0m \u001b[39mfor\u001b[39;00m i \u001b[39min\u001b[39;00m \u001b[39mrange\u001b[39m(\u001b[39mlen\u001b[39m(MC)):\n\u001b[1;32m      <a href='vscode-notebook-cell://ssh-remote%2Blee/nevis/houston/home/sc5303/anomaly/ubooneKD/ubooneKD.ipynb#X53sdnNjb2RlLXJlbW90ZQ%3D%3D?line=7'>8</a>\u001b[0m     fpr_teacher\u001b[39m.\u001b[39mappend(np\u001b[39m.\u001b[39mempty((Y_true[i]\u001b[39m.\u001b[39mshape[\u001b[39m0\u001b[39m],\u001b[39m1\u001b[39m)))\n\u001b[1;32m      <a href='vscode-notebook-cell://ssh-remote%2Blee/nevis/houston/home/sc5303/anomaly/ubooneKD/ubooneKD.ipynb#X53sdnNjb2RlLXJlbW90ZQ%3D%3D?line=8'>9</a>\u001b[0m     tpr_teacher\u001b[39m.\u001b[39mappend(np\u001b[39m.\u001b[39mempty((Y_true[i]\u001b[39m.\u001b[39mshape[\u001b[39m0\u001b[39m],\u001b[39m1\u001b[39m)))\n",
      "\u001b[0;31mNameError\u001b[0m: name 'MC' is not defined"
     ]
    },
    {
     "data": {
      "image/png": "[encoded data removed]",
      "text/plain": [
       "<Figure size 1300x1300 with 1 Axes>"
      ]
     },
     "metadata": {},
     "output_type": "display_data"
    }
   ],
   "source": [
    "plt.figure(figsize = (13, 13))\n",
    "axes = plt.subplot(2, 2, 1)\n",
    "fpr_teacher = []\n",
    "tpr_teacher = []\n",
    "thresholds_teacher = []\n",
    "roc_auc_teacher = []\n",
    "for i in range(len(MC)):\n",
    "    fpr_teacher.append(np.empty((Y_true[i].shape[0],1)))\n",
    "    tpr_teacher.append(np.empty((Y_true[i].shape[0],1)))\n",
    "    thresholds_teacher.append(np.empty((Y_true[i].shape[0],1)))\n",
    "    roc_auc_teacher.append(np.empty((Y_true[i].shape[0],1)))\n",
    "    fpr_teacher[i], tpr_teacher[i], thresholds_teacher[i] = roc_curve(Y_true[i], Y_teacher[i])\n",
    "    roc_auc_teacher[i] = auc(fpr_teacher[i], tpr_teacher[i])\n",
    "    fpr_teacher[i] *= 28.61\n",
    "    if i == 0:\n",
    "        axes.plot(fpr_teacher[0], tpr_teacher[0], linestyle = '-', lw = 1.5, color = 'green', label = 'H_ToLongLived (AUC = %.5f)' % (roc_auc_teacher[0]))\n",
    "    if i == 1:\n",
    "        axes.plot(fpr_teacher[1], tpr_teacher[1], linestyle = '-', lw = 1.5, color = 'red', label = 'SUEP (AUC = %.5f)' % (roc_auc_teacher[1]))\n",
    "    if i == 2:\n",
    "        axes.plot(fpr_teacher[2], tpr_teacher[2], linestyle = '-', lw = 1.5, color = 'blue', label = 'SUSYGGBBH (AUC = %.5f)' % (roc_auc_teacher[2]))\n",
    "    if i == 3:\n",
    "        axes.plot(fpr_teacher[3], tpr_teacher[3], linestyle = '-', lw = 1.5, color = 'orange', label = 'TT (AUC = %.5f)' % (roc_auc_teacher[3]))\n",
    "    if i == 4:\n",
    "        axes.plot(fpr_teacher[4], tpr_teacher[4], linestyle = '-', lw = 1.5, color = 'purple', label = 'VBFHto2C (AUC = %.5f)' % (roc_auc_teacher[4]))\n",
    "axes.plot([0.003, 0.003], [0, 1], linestyle = '--', lw = 1, color = 'black', label = 'Trigger rate = 3 kHz')\n",
    "#axes.set_xlim([0.00002861, 28.61])\n",
    "axes.set_xlim([0.0001, 28.61])\n",
    "axes.set_ylim([0.000001, 1.0])\n",
    "axes.set_xscale(value = \"log\")\n",
    "axes.set_yscale(value = \"log\")\n",
    "axes.set_xlabel('Trigger Rate (MHz)',size=15)\n",
    "axes.set_ylabel('Signal Efficiency',size=15)\n",
    "axes.set_title('Teacher Network',size=15)\n",
    "#axes.legend(loc='center left', bbox_to_anchor = (0.3, 0.3),fontsize=12)\n",
    "axes.legend(loc='center left', bbox_to_anchor=(0.26, 0.3),fontsize=12)\n",
    "plt.show()"
   ]
  },
  {
   "cell_type": "markdown",
   "metadata": {},
   "source": [
    "### Student model ROC"
   ]
  },
  {
   "cell_type": "code",
   "execution_count": null,
   "metadata": {},
   "outputs": [],
   "source": [
    "plt.figure(figsize = (13, 13))\n",
    "axes = plt.subplot(2, 2, 1)\n",
    "fpr_student = []\n",
    "tpr_student = []\n",
    "thresholds_student = []\n",
    "roc_auc_student = []\n",
    "\n",
    "for i in range(len(MC)):\n",
    "    fpr_student.append(np.empty((Y_true[i].shape[0],1)))\n",
    "    tpr_student.append(np.empty((Y_true[i].shape[0],1)))\n",
    "    thresholds_student.append(np.empty((Y_true[i].shape[0],1)))\n",
    "    roc_auc_student.append(np.empty((Y_true[i].shape[0],1)))\n",
    "    fpr_student[i], tpr_student[i], thresholds_student[i] = roc_curve(Y_true[i], Y_student[i])\n",
    "    roc_auc_student[i] = auc(fpr_student[i], tpr_student[i])\n",
    "    fpr_student[i] *= 28.61\n",
    "    if i == 0:\n",
    "        axes.plot(fpr_student[0], tpr_student[0], linestyle = '-', lw = 1.5, color = 'green', label = 'H_ToLongLived (AUC = %.5f)' % (roc_auc_student[0]))\n",
    "    if i == 1:\n",
    "        axes.plot(fpr_student[1], tpr_student[1], linestyle = '-', lw = 1.5, color = 'red', label = 'SUEP (AUC = %.5f)' % (roc_auc_student[1]))\n",
    "    if i == 2:\n",
    "        axes.plot(fpr_student[2], tpr_student[2], linestyle = '-', lw = 1.5, color = 'blue', label = 'SUSYGGBBH (AUC = %.5f)' % (roc_auc_student[2]))\n",
    "    if i == 3:\n",
    "        axes.plot(fpr_student[3], tpr_student[3], linestyle = '-', lw = 1.5, color = 'orange', label = 'TT (AUC = %.5f)' % (roc_auc_student[3]))\n",
    "    if i == 4:\n",
    "        axes.plot(fpr_student[4], tpr_student[4], linestyle = '-', lw = 1.5, color = 'purple', label = 'VBFHto2C (AUC = %.5f)' % (roc_auc_student[4]))\n",
    "axes.plot([0.003, 0.003], [0, 1], linestyle = '--', lw = 1, color = 'black', label = 'Trigger rate = 3 kHz')\n",
    "#axes.set_xlim([0.00002861, 28.61])\n",
    "axes.set_xlim([0.0001, 28.61])\n",
    "axes.set_ylim([0.000001, 1])\n",
    "axes.set_xscale(value = \"log\")\n",
    "axes.set_yscale(value = \"log\")\n",
    "axes.set_xlabel('Trigger Rate (MHz)',size=15)\n",
    "axes.set_ylabel('Signal Efficiency',size=15)\n",
    "axes.set_title('CICADA_v3_v2, signal(Run3) vs ZB(2023)',size=15)\n",
    "axes.legend(loc='center left', bbox_to_anchor = (0.26, 0.3),fontsize=12)\n",
    "#axes.legend(loc='center left', bbox_to_anchor=(1, 0.3),fontsize=12)\n",
    "plt.show()"
   ]
  },
  {
   "cell_type": "markdown",
   "metadata": {},
   "source": [
    "# cross-validation"
   ]
  },
  {
   "cell_type": "code",
   "execution_count": null,
   "metadata": {},
   "outputs": [],
   "source": [
    "signal_acceptance_flag = True\n",
    "\n",
    "Y_bkg = np.zeros((X_test.shape[0], 1))\n",
    "Y_sig = []\n",
    "for i in range(len(MC)):\n",
    "    if signal_acceptance_flag == False:\n",
    "        Y_sig.append(np.ones((MC[i].shape[0], 1)))\n",
    "    else:\n",
    "        Y_sig.append(np.ones((MC_flag[i].shape[0], 1)))\n",
    "        \n",
    "Y_true = []\n",
    "Y_student = []\n",
    "\n",
    "for i in range(len(MC)):\n",
    "    if signal_acceptance_flag == False:\n",
    "        Y_true.append(np.concatenate((Y_sig[i], Y_bkg)))\n",
    "        Y_student.append(np.concatenate((MC_loss_student[i], X_test_loss_student)))\n",
    "    else:\n",
    "        Y_true.append(np.concatenate((Y_sig[i], Y_bkg)))\n",
    "        Y_student.append(np.concatenate((MC_flag_loss_student[i], X_test_loss_student)))\n",
    "\n",
    "def kfold(y, k):\n",
    "    N=y.shape[0]\n",
    "    n=np.floor(N/k).astype(int)\n",
    "    y_kf=[]\n",
    "    for i in range(k):\n",
    "        y_kf.append(y[i*n : (i+1)*n])\n",
    "    return y_kf\n",
    "\n",
    "kf=10\n",
    "X_test_loss_model = X_test_loss_student\n",
    "Y_model = Y_student\n",
    "if signal_acceptance_flag == False:\n",
    "    MC_loss_model = MC_loss_student\n",
    "else:\n",
    "    MC_loss_model = MC_flag_loss_student\n",
    "\n",
    "X_test_loss_model_kf=kfold(X_test_loss_model,kf)\n",
    "Y_bkg_kf=kfold(Y_bkg,kf)\n",
    "\n",
    "plt.figure(figsize = (16, 16))\n",
    "axes = plt.subplot(2, 2, 1)\n",
    "\n",
    "fpr = []\n",
    "tpr = []\n",
    "thresholds = []\n",
    "roc_auc = []\n",
    "\n",
    "for j in range(len(MC)):\n",
    "    fpr.append(np.empty((Y_true[j].shape[0],1)))\n",
    "    tpr.append(np.empty((Y_true[j].shape[0],1)))\n",
    "    thresholds.append(np.empty((Y_true[j].shape[0],1)))\n",
    "    roc_auc.append(np.empty((Y_true[j].shape[0],1)))\n",
    "    fpr[j], tpr[j], thresholds[j] = roc_curve(Y_true[j], Y_model[j])\n",
    "    roc_auc[j] = auc(fpr[j], tpr[j])\n",
    "    fpr[j] *= 28.61\n",
    "    \n",
    "    MC_loss_model_kf=kfold(MC_loss_model[j],kf)\n",
    "    Y_sig_kf=kfold(Y_sig[j],kf)\n",
    "\n",
    "    Y_true_kf=[]\n",
    "    Y_model_kf=[]\n",
    "    for i in range(kf):\n",
    "        Y_true_kf.append(np.concatenate((Y_sig_kf[i],Y_bkg_kf[i])))\n",
    "        Y_model_kf.append((np.concatenate((MC_loss_model_kf[i],X_test_loss_model_kf[i]))))\n",
    "\n",
    "    fpr_mean=np.linspace(0,1,10000000)\n",
    "    tpr_kf=[]\n",
    "    fpr_kf=[]\n",
    "    thresholds_kf=[]\n",
    "    roc_auc_kf=[]\n",
    "    for i in range(kf):\n",
    "        tpr_kf.append(np.empty((Y_true_kf[i].shape[0],1)))\n",
    "        fpr_kf.append(np.empty((Y_true_kf[i].shape[0],1)))\n",
    "        thresholds_kf.append(np.empty((Y_true_kf[i].shape[0],1)))\n",
    "        roc_auc_kf.append(np.empty((Y_true_kf[i].shape[0],1)))\n",
    "        fpr_kf[i], tpr_kf[i], thresholds_kf[i] = roc_curve(Y_true_kf[i], Y_model_kf[i])\n",
    "        roc_auc_kf[i] = auc(fpr_kf[i], tpr_kf[i])\n",
    "\n",
    "    tpr_total=[]\n",
    "    for i in range(kf):\n",
    "        interp_tpr=np.interp(fpr_mean, fpr_kf[i], tpr_kf[i])\n",
    "        interp_tpr[0]=0.0\n",
    "        tpr_total.append(interp_tpr)\n",
    "    tpr_mean=np.mean(tpr_total, axis=0)\n",
    "    tpr_mean[-1]=1.0\n",
    "    roc_auc_mean=auc(fpr_mean,tpr_mean)\n",
    "    roc_auc_std=np.std(roc_auc_kf)\n",
    "    \n",
    "    tpr_std=np.std(tpr_total, axis=0)\n",
    "    tpr_up=np.minimum(tpr_mean+tpr_std,1)\n",
    "    tpr_down=np.maximum(tpr_mean-tpr_std,0)\n",
    "\n",
    "    fpr_mean *= 28.61\n",
    "    \n",
    "    if j == 0:\n",
    "        axes.plot(fpr_mean, tpr_mean, linestyle = '-', lw = 1.5, color = 'green', label = 'H_ToLongLived (AUC = %.5f $\\pm$ %0.5f)' % (roc_auc_mean, roc_auc_std))\n",
    "        axes.fill_between(fpr_mean, tpr_down, tpr_up, color='green', alpha=0.1)\n",
    "    if j == 1:\n",
    "        axes.plot(fpr_mean, tpr_mean, linestyle = '-', lw = 1.5, color = 'red', label = 'SUEP (AUC = %.5f $\\pm$ %0.5f)' % (roc_auc_mean, roc_auc_std))\n",
    "        axes.fill_between(fpr_mean, tpr_down, tpr_up, color='red', alpha=0.1)\n",
    "    if j == 2:\n",
    "        axes.plot(fpr_mean, tpr_mean, linestyle = '-', lw = 1.5, color = 'blue', label = 'SUSYGGBBH (AUC = %.5f $\\pm$ %0.5f)' % (roc_auc_mean, roc_auc_std))\n",
    "        axes.fill_between(fpr_mean, tpr_down, tpr_up, color='blue', alpha=0.1)\n",
    "    if j == 3:\n",
    "        axes.plot(fpr_mean, tpr_mean, linestyle = '-', lw = 1.5, color = 'orange', label = 'TT (AUC = %.5f $\\pm$ %0.5f)' % (roc_auc_mean, roc_auc_std))\n",
    "        axes.fill_between(fpr_mean, tpr_down, tpr_up, color='orange', alpha=0.1)\n",
    "    if j == 4:\n",
    "        axes.plot(fpr_mean, tpr_mean, linestyle = '-', lw = 1.5, color = 'purple', label = 'VBFHto2C (AUC = %.5f $\\pm$ %0.5f)' % (roc_auc_mean, roc_auc_std))\n",
    "        axes.fill_between(fpr_mean, tpr_down, tpr_up, color='purple', alpha=0.1)\n",
    "\n",
    "axes.plot([0.003, 0.003], [0, 1], linestyle = '--', lw = 1, color = 'black', label = 'Trigger rate = 3 kHz')\n",
    "axes.set_xlim([0.0001, 28.61])\n",
    "axes.set_ylim([0.000001, 1])\n",
    "axes.set_xscale(value = \"log\")\n",
    "axes.set_yscale(value = \"log\")\n",
    "axes.set_xlabel('Trigger Rate (MHz)',size=17)\n",
    "axes.set_ylabel('Signal Efficiency',size=17)\n",
    "axes.set_title('CICADA_v3_v2, signal(Run3) vs ZB(2023)',size=17)\n",
    "axes.legend(loc='center left', bbox_to_anchor = (0.28, 0.3),fontsize=11)\n",
    "plt.show()"
   ]
  }
 ],
 "metadata": {
  "kernelspec": {
   "display_name": "Python 3",
   "language": "python",
   "name": "python3"
  },
  "language_info": {
   "codemirror_mode": {
    "name": "ipython",
    "version": 3
   },
   "file_extension": ".py",
   "mimetype": "text/x-python",
   "name": "python",
   "nbconvert_exporter": "python",
   "pygments_lexer": "ipython3",
   "version": "3.9.18"
  }
 },
 "nbformat": 4,
 "nbformat_minor": 4
}
